{
 "cells": [
  {
   "cell_type": "markdown",
   "id": "d97f430d-673a-46c1-be07-488a4ec3dc55",
   "metadata": {},
   "source": [
    "<p style=\"text-align: center; font-size: 24px;\">Welcome to the course</p>"
   ]
  },
  {
   "cell_type": "markdown",
   "id": "6cc16879-fb41-4c9f-872c-553d1a89e07a",
   "metadata": {},
   "source": [
    "# INTRODUCTION TO COMPUTER SCIENCE WITH PYTHON"
   ]
  },
  {
   "cell_type": "markdown",
   "id": "1351d048-f7dd-4e8a-9905-4fe0476e1e5e",
   "metadata": {},
   "source": [
    "## LESSON 1: assignment of variables, arithmetic expressions, print statement"
   ]
  },
  {
   "cell_type": "markdown",
   "id": "16758851-144f-439b-92fe-b95f149262c5",
   "metadata": {},
   "source": [
    "## Terminology\n",
    "**Variable**: a name that refer to a variable  \n",
    "**assignment**: statement that assign a value to a variable   \n",
    "**expression**: a combination of variables  \n",
    "**statement**: a section of code that represent a command or action. e.g. print statement, assign statement  \n",
    "**print statement**: an instruction that causes Python interpreter to display a value on the screen  \n",
    "**\"+,-,*,/,**\"** are operators"
   ]
  },
  {
   "cell_type": "markdown",
   "id": "94dc3fab-bdf0-404d-8931-7ee25d6f2b08",
   "metadata": {},
   "source": [
    "# ARITHMETIC OPERATIONS"
   ]
  },
  {
   "cell_type": "markdown",
   "id": "2a6cd1f3-65e8-4b53-be92-2d7c67fcd9d6",
   "metadata": {},
   "source": [
    "We can use python interpreter to perform arithmetic operations"
   ]
  },
  {
   "cell_type": "code",
   "execution_count": 161,
   "id": "10c29b72-00b4-4407-b29e-ca23319bd14a",
   "metadata": {},
   "outputs": [
    {
     "data": {
      "text/plain": [
       "8"
      ]
     },
     "execution_count": 161,
     "metadata": {},
     "output_type": "execute_result"
    }
   ],
   "source": [
    "5+3"
   ]
  },
  {
   "cell_type": "code",
   "execution_count": 163,
   "id": "18f699d6-0ec4-4fcc-ba91-82c8272b4b98",
   "metadata": {},
   "outputs": [
    {
     "data": {
      "text/plain": [
       "0.5"
      ]
     },
     "execution_count": 163,
     "metadata": {},
     "output_type": "execute_result"
    }
   ],
   "source": [
    "(5-4)/2"
   ]
  },
  {
   "cell_type": "markdown",
   "id": "f39510f7-6d61-43bc-82d6-305e54e09aca",
   "metadata": {},
   "source": [
    "Let's now see some operators"
   ]
  },
  {
   "cell_type": "markdown",
   "id": "6a54b272-fa67-4a6c-bee9-5df392b976c4",
   "metadata": {},
   "source": [
    "## ARITHMETICS OPERATORS\n",
    "\n",
    "| Operator     | Name           | Description                                            |\n",
    "|--------------|----------------|--------------------------------------------------------|\n",
    "| ``a + b``    | Addition       | Sum of ``a`` and ``b``                                 |\n",
    "| ``a - b``    | Subtraction    | Difference of ``a`` and ``b``                          |\n",
    "| ``a * b``    | Multiplication | Product of ``a`` and ``b``                             |\n",
    "| ``a / b``    | True division  | Quotient of ``a`` and ``b``                            |\n",
    "| ``a // b``   | Floor division | Quotient of ``a`` and ``b``, removing fractional parts |\n",
    "| ``a % b``    | Modulus        | Integer remainder after division of ``a`` by ``b``     |\n",
    "| ``a ** b``   | Exponentiation | ``a`` raised to the power of ``b``                     |\n",
    "| ``-a``       | Negation       | The negative of ``a``                                  |"
   ]
  },
  {
   "cell_type": "markdown",
   "id": "d475e6a5-682b-4ba9-96e3-468d8e377016",
   "metadata": {},
   "source": [
    "Operators have their own **precedence rules** (similar to those in mathematics). To change these precedences, parentheses are used. An important difference is that in Python **only round parentheses** are used for this purpose: we can open as many as we want, one inside the other: we just need to remember to close them! Forgetting to close an open parenthesis is a rather common mistake.\n",
    "Let's see some examples:"
   ]
  },
  {
   "cell_type": "markdown",
   "id": "e7e57029-45cc-41db-aefb-00ba0c799c42",
   "metadata": {},
   "source": [
    "| **Math** | **Python** |  |\n",
    "|----------------|------------|--|\n",
    "| $( 3(2+5) )$   | `3 * (2 + 5)`  | It is necessary to write the `*` even when it is implicit in mathematics |\n",
    "| $(\\frac{5}{4^2 - 6})$   | `5 / (4 ** 2 - 6)` | Division has a higher priority than subtraction so parentheses are needed. |\n",
    "| $(\\left( \\frac{1}{4} + 2 \\left[ \\frac{1}{5} - \\left( 1 + \\frac{1}{3} \\right) \\right] \\right)^2 )$   | `(1 / 4 + 2 * (1 / 5 - (1 + 1 / 3))) ** 2` | Three open and three closed round brackets |\n",
    "| A circular platform rotates through an angle of 165° 12 times in a row. What angle will it finally form with respect to the starting position?| `(165 * 12) % 360` | The `%` operator is often used for numbers that can only take on a limited set of values ​​(e.g. angles, hours of day, etc.) |\n"
   ]
  },
  {
   "cell_type": "code",
   "execution_count": 180,
   "id": "4d70dc27-b9ad-4baa-9839-76f8920faf01",
   "metadata": {},
   "outputs": [
    {
     "data": {
      "text/plain": [
       "4.066944444444444"
      ]
     },
     "execution_count": 180,
     "metadata": {},
     "output_type": "execute_result"
    }
   ],
   "source": [
    "(1 / 4 + 2 * (1 / 5 - (1 + 1 / 3))) ** 2"
   ]
  },
  {
   "cell_type": "markdown",
   "id": "856820c0-1dff-49c5-a1ba-0b9f9ed4c7ec",
   "metadata": {},
   "source": [
    "## VARIABLES\n",
    "A **variable** is a symbolic name that refers to a value stored in memory. Variables allow you to store data and reuse it throughout your code. When you create a variable, you assign it a value using the = operator."
   ]
  },
  {
   "cell_type": "code",
   "execution_count": 7,
   "id": "1a9c25c3-09a3-486c-8b8a-e341a81f6d7c",
   "metadata": {},
   "outputs": [
    {
     "name": "stdout",
     "output_type": "stream",
     "text": [
      "16\n"
     ]
    }
   ],
   "source": [
    "a = 10      # a is the name of the VARIABLE, a=10 is an ASSIGNMENT\n",
    "b = 10*2-4  # 10*2-4 is an EXPRESSION, b = 10*2-4 is an ASSIGNMENT\n",
    "print(b)    # this is a PRINT STATEMENT"
   ]
  },
  {
   "cell_type": "code",
   "execution_count": 35,
   "id": "c9244dc6-1206-45a9-a821-7ca984a5adcb",
   "metadata": {},
   "outputs": [
    {
     "name": "stdout",
     "output_type": "stream",
     "text": [
      "0.625\n"
     ]
    }
   ],
   "source": [
    "c = a /b \n",
    "print(c)"
   ]
  },
  {
   "cell_type": "code",
   "execution_count": 58,
   "id": "c5e3d00e-bda5-4624-96e6-3d6f8e438773",
   "metadata": {},
   "outputs": [
    {
     "name": "stdout",
     "output_type": "stream",
     "text": [
      "The result is:  101\n"
     ]
    }
   ],
   "source": [
    "d = a**2-2+3\n",
    "print(\"The result is: \",d)"
   ]
  },
  {
   "cell_type": "code",
   "execution_count": 124,
   "id": "118e2af2-33df-4b46-8c35-979689c1fe7b",
   "metadata": {},
   "outputs": [
    {
     "data": {
      "text/plain": [
       "2"
      ]
     },
     "execution_count": 124,
     "metadata": {},
     "output_type": "execute_result"
    }
   ],
   "source": [
    "a1 = 30\n",
    "b1 = 12\n",
    "a1//b1   # this gives the quotient removing the fractional part"
   ]
  },
  {
   "cell_type": "code",
   "execution_count": 134,
   "id": "f35fcc54-d4a3-4d81-b502-6957e00d5751",
   "metadata": {},
   "outputs": [
    {
     "data": {
      "text/plain": [
       "2"
      ]
     },
     "execution_count": 134,
     "metadata": {},
     "output_type": "execute_result"
    }
   ],
   "source": [
    "a1 = 8\n",
    "b1 = 3\n",
    "a1%b1   # this gives the modulus, the integer remainder after the division of a1 and b1"
   ]
  },
  {
   "cell_type": "markdown",
   "id": "819baf7d-4f53-4f32-aae7-74654774c743",
   "metadata": {},
   "source": [
    "Let's see how to insert a **COMMENT** in a script with the symbol **#**"
   ]
  },
  {
   "cell_type": "code",
   "execution_count": 68,
   "id": "d3c88643-7e26-4c0a-a27b-efa6f893bfbe",
   "metadata": {},
   "outputs": [],
   "source": [
    "a = 10      # this is a comment and I can write a description of the command. \n",
    "            # for example now I'm assigning the value 10 to the variable a\n"
   ]
  },
  {
   "cell_type": "markdown",
   "id": "122616d7-0150-4461-8755-2769fd0a502a",
   "metadata": {},
   "source": [
    "Let's calculate the area of a triangle"
   ]
  },
  {
   "cell_type": "code",
   "execution_count": 72,
   "id": "c266d81a-33f4-4999-a097-5524ccc09997",
   "metadata": {},
   "outputs": [
    {
     "name": "stdout",
     "output_type": "stream",
     "text": [
      "100.0\n"
     ]
    }
   ],
   "source": [
    "base = 10\n",
    "high = 20\n",
    "area = base * high /2\n",
    "print (area)"
   ]
  },
  {
   "cell_type": "markdown",
   "id": "9e5c4de3-66ac-4bd7-bafa-7e32f61b89bf",
   "metadata": {},
   "source": [
    "What if I want to input from keyboard the value of the base and high?\n",
    "I can use the command **input** and the command **float**"
   ]
  },
  {
   "cell_type": "code",
   "execution_count": 88,
   "id": "c4718a0c-118d-482a-9ae8-47ddd74d48f6",
   "metadata": {},
   "outputs": [
    {
     "name": "stdin",
     "output_type": "stream",
     "text": [
      "Insert the base:  10\n",
      "Insert the high:  20\n"
     ]
    },
    {
     "name": "stdout",
     "output_type": "stream",
     "text": [
      "The area of the triangle is:  200.0\n"
     ]
    }
   ],
   "source": [
    "base = float(input(\"Insert the base: \"))\n",
    "base = float(input(\"Insert the high: \"))\n",
    "area = base * high /2\n",
    "print (\"The area of the triangle is: \",area)"
   ]
  },
  {
   "cell_type": "markdown",
   "id": "444e4e4e-a26b-45c7-899e-56120acec2dc",
   "metadata": {},
   "source": [
    "I can also assign to a variable a set of **CHARACTERS** that form a **STRING**"
   ]
  },
  {
   "cell_type": "code",
   "execution_count": 92,
   "id": "cd7e8afa-a5c9-4bbc-9b44-1e4bf4dbd664",
   "metadata": {},
   "outputs": [
    {
     "name": "stdout",
     "output_type": "stream",
     "text": [
      "IIS GUidona\n"
     ]
    }
   ],
   "source": [
    "school = \"IIS Guidona\"   # I assign the string \"IIS GUIDONIA\" to the variable school\n",
    "print (school)"
   ]
  },
  {
   "cell_type": "markdown",
   "id": "14c31ef4-75c8-4212-b0e6-a8d84bb445ab",
   "metadata": {},
   "source": [
    "I can perform operations between strings. The **+** operator **concatenates** two strings"
   ]
  },
  {
   "cell_type": "code",
   "execution_count": 111,
   "id": "93e3349c-df97-4cdf-9e20-6ffe0dec0c64",
   "metadata": {},
   "outputs": [
    {
     "name": "stdout",
     "output_type": "stream",
     "text": [
      "The name of this course is: Introduction to Computer Scientist with Python\n"
     ]
    }
   ],
   "source": [
    "a = \"The name of this course is: \"\n",
    "b = \"Introduction to Computer Scientist with Python\"\n",
    "c = a + b\n",
    "print(c)"
   ]
  }
 ],
 "metadata": {
  "kernelspec": {
   "display_name": "Python 3 (ipykernel)",
   "language": "python",
   "name": "python3"
  },
  "language_info": {
   "codemirror_mode": {
    "name": "ipython",
    "version": 3
   },
   "file_extension": ".py",
   "mimetype": "text/x-python",
   "name": "python",
   "nbconvert_exporter": "python",
   "pygments_lexer": "ipython3",
   "version": "3.11.5"
  }
 },
 "nbformat": 4,
 "nbformat_minor": 5
}
