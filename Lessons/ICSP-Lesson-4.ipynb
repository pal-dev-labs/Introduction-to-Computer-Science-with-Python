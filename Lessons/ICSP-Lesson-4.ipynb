{
 "cells": [
  {
   "cell_type": "markdown",
   "id": "05b83f5f",
   "metadata": {},
   "source": [
    "# INTRODUCTION TO COMPUTER SCIENCE WITH PYTHON"
   ]
  },
  {
   "cell_type": "markdown",
   "id": "b2af431a-1fe0-4080-82bd-3363c2a6b8f0",
   "metadata": {},
   "source": [
    "# LESSON 4: conditional structures and cycles (for)\n",
    "In Python, conditional structures and loops (cycles) are fundamental for controlling the flow of a program, allowing it to make decisions and perform repetitive tasks.\n"
   ]
  },
  {
   "cell_type": "code",
   "execution_count": null,
   "id": "845d3f7d",
   "metadata": {},
   "outputs": [],
   "source": []
  },
  {
   "cell_type": "markdown",
   "id": "7e6fd1b4",
   "metadata": {},
   "source": [
    "## Conditional Statements: ``if``-``elif``-``else``:\n",
    "Conditional statements, often called if-then statements, allow the programmer to execute certain parts of code based on specific Boolean conditions. A basic example of a conditional statement in Python is as follows:"
   ]
  },
  {
   "cell_type": "code",
   "execution_count": 106,
   "id": "b65ddef1",
   "metadata": {},
   "outputs": [
    {
     "data": {
      "text/plain": [
       "False"
      ]
     },
     "execution_count": 106,
     "metadata": {},
     "output_type": "execute_result"
    }
   ],
   "source": [
    "x=1\n",
    "x<0"
   ]
  },
  {
   "cell_type": "code",
   "execution_count": 8,
   "id": "6138ba9d",
   "metadata": {},
   "outputs": [
    {
     "name": "stdout",
     "output_type": "stream",
     "text": [
      "the number is bigger than 3\n"
     ]
    }
   ],
   "source": [
    "x = 4\n",
    "if x > 3:\n",
    "    print(\"the number is bigger than 3\")"
   ]
  },
  {
   "cell_type": "markdown",
   "id": "2f8082e7",
   "metadata": {},
   "source": [
    "We can also specify the alternative."
   ]
  },
  {
   "cell_type": "code",
   "execution_count": 11,
   "id": "2cdbba09",
   "metadata": {},
   "outputs": [
    {
     "name": "stdout",
     "output_type": "stream",
     "text": [
      "X is bigger than 0\n"
     ]
    }
   ],
   "source": [
    "x = 0\n",
    "\n",
    "if x >= 0:\n",
    "    print(\"X is bigger than 0\")\n",
    "else:\n",
    "    print(x, \"x is lower than 0\")"
   ]
  },
  {
   "cell_type": "code",
   "execution_count": null,
   "id": "8153c25b",
   "metadata": {},
   "outputs": [],
   "source": []
  },
  {
   "cell_type": "markdown",
   "id": "7cfb9964",
   "metadata": {},
   "source": [
    "We can also specify more alternatives"
   ]
  },
  {
   "cell_type": "code",
   "execution_count": 19,
   "id": "1ec4e8aa",
   "metadata": {},
   "outputs": [
    {
     "name": "stdin",
     "output_type": "stream",
     "text": [
      "Insert a number 10\n"
     ]
    },
    {
     "name": "stdout",
     "output_type": "stream",
     "text": [
      "the number is bigger than 2\n"
     ]
    }
   ],
   "source": [
    "x = float(input(\"Insert a number\"))\n",
    "\n",
    "if x == 0:\n",
    "    print(\"the number is zero\")\n",
    "elif x < 0:\n",
    "    print(\"is a negative number\")\n",
    "elif (0 < x) and (x <= 2):\n",
    "    print(\"the number is (or equals) 0 and 2\")\n",
    "else:\n",
    "    print(\"the number is bigger than 2\")"
   ]
  },
  {
   "cell_type": "markdown",
   "id": "f020ab65",
   "metadata": {},
   "source": [
    "# Try\n",
    "Write a conditional statement that, given an input string, tells us if the string length is greater than 7 characters"
   ]
  },
  {
   "cell_type": "code",
   "execution_count": null,
   "id": "fc678c83",
   "metadata": {},
   "outputs": [],
   "source": []
  },
  {
   "cell_type": "code",
   "execution_count": 22,
   "id": "81469a44",
   "metadata": {
    "hide_input": false
   },
   "outputs": [
    {
     "name": "stdin",
     "output_type": "stream",
     "text": [
      "Insert a string ciao\n"
     ]
    },
    {
     "name": "stdout",
     "output_type": "stream",
     "text": [
      "the string is lower than 7 characters\n"
     ]
    }
   ],
   "source": [
    "x = input(\"Insert a string\")\n",
    "if len(x) > 7:\n",
    "    print(\"the string is bigger than 7 characters\")\n",
    "else:\n",
    "    print(\"the string is lower than 7 characters\")"
   ]
  },
  {
   "cell_type": "code",
   "execution_count": null,
   "id": "9b03eba9",
   "metadata": {},
   "outputs": [],
   "source": []
  },
  {
   "cell_type": "markdown",
   "id": "c6649eb4",
   "metadata": {},
   "source": [
    "# Try\n",
    "Let's write a function that receives two integers and tells us if the first number is greater than the second."
   ]
  },
  {
   "cell_type": "code",
   "execution_count": null,
   "id": "f9a97366",
   "metadata": {},
   "outputs": [],
   "source": [
    "confronto(x,y)\n",
    "\n"
   ]
  },
  {
   "cell_type": "code",
   "execution_count": 25,
   "id": "be6ec0e8",
   "metadata": {
    "hide_input": false
   },
   "outputs": [
    {
     "name": "stdin",
     "output_type": "stream",
     "text": [
      "Insert a number 10\n",
      "Insert a new number 30\n"
     ]
    },
    {
     "name": "stdout",
     "output_type": "stream",
     "text": [
      "10.0  is less than  30.0\n"
     ]
    }
   ],
   "source": [
    "def confronto(x,y):\n",
    "    if (x==y):\n",
    "        print(x,\" is equals at \",y)\n",
    "    elif x < y:\n",
    "        print(x, \" is less than \",y)\n",
    "    else:\n",
    "        print(x, \" is bigger than \",y)\n",
    "        \n",
    "x = float(input(\"Insert a number\"))\n",
    "y = float(input(\"Insert a new number\"))\n",
    "confronto(x,y)"
   ]
  },
  {
   "cell_type": "code",
   "execution_count": 27,
   "id": "a9621647",
   "metadata": {},
   "outputs": [
    {
     "name": "stdout",
     "output_type": "stream",
     "text": [
      "4  is less than  5\n"
     ]
    }
   ],
   "source": [
    "confronto(4,5)"
   ]
  },
  {
   "cell_type": "code",
   "execution_count": null,
   "id": "7e2f473b",
   "metadata": {},
   "outputs": [],
   "source": []
  },
  {
   "cell_type": "markdown",
   "id": "cb72d5ed",
   "metadata": {
    "tags": []
   },
   "source": [
    "## ``for`` LOOP (CICLO)\n",
    "Loops in Python are a way to repeatedly execute certain code instructions.\n",
    "So, for example, if we want to print each of the elements in a list, we can use a for loop:"
   ]
  },
  {
   "cell_type": "code",
   "execution_count": 30,
   "id": "99a7dbcb",
   "metadata": {},
   "outputs": [],
   "source": [
    "a = [1,2,3,4,5]   # I creat a LIST"
   ]
  },
  {
   "cell_type": "code",
   "execution_count": 32,
   "id": "fbad9a9e",
   "metadata": {},
   "outputs": [
    {
     "name": "stdout",
     "output_type": "stream",
     "text": [
      "1\n",
      "2\n",
      "3\n",
      "4\n",
      "5\n"
     ]
    }
   ],
   "source": [
    "for i in a:\n",
    "    print(i)"
   ]
  },
  {
   "cell_type": "code",
   "execution_count": null,
   "id": "43f3c956",
   "metadata": {},
   "outputs": [],
   "source": []
  },
  {
   "cell_type": "code",
   "execution_count": 34,
   "id": "5c066418",
   "metadata": {},
   "outputs": [
    {
     "name": "stdout",
     "output_type": "stream",
     "text": [
      "1 2 3 4 5 "
     ]
    }
   ],
   "source": [
    "# print on the same line\n",
    "for i in a:\n",
    "    print(i, end=' ') #"
   ]
  },
  {
   "cell_type": "code",
   "execution_count": 38,
   "id": "377bae0f",
   "metadata": {},
   "outputs": [
    {
     "name": "stdout",
     "output_type": "stream",
     "text": [
      "['Corso', 'AI', 'with', 'Python']\n"
     ]
    }
   ],
   "source": [
    "b = [\"Corso\",\"AI\", \"with\", \"Python\"]\n",
    "print(b)"
   ]
  },
  {
   "cell_type": "code",
   "execution_count": 40,
   "id": "19b453b6",
   "metadata": {},
   "outputs": [
    {
     "name": "stdout",
     "output_type": "stream",
     "text": [
      "Corso\n",
      "AI\n",
      "with\n",
      "Python\n",
      "CorsoAIwithPython\n"
     ]
    }
   ],
   "source": [
    "a=\"\"\n",
    "for i in b:\n",
    "    print(i)\n",
    "    a=a+i\n",
    "print(a)"
   ]
  },
  {
   "cell_type": "code",
   "execution_count": null,
   "id": "94f241ee",
   "metadata": {},
   "outputs": [],
   "source": []
  },
  {
   "cell_type": "markdown",
   "id": "beb98839",
   "metadata": {},
   "source": [
    "Notice the simplicity of the for loop:\n",
    "\n",
    "We specify the variable we want to use, \n",
    "\n",
    "the sequence we want to loop over,\n",
    "\n",
    "and use the \"in\" operator to link them together in an intuitive and readable way.\n",
    "\n",
    "More precisely, the object to the RIGHT of \"in\" can be any Python ITERATOR.\n",
    "An iterator can be thought of as a generalized sequence of objects.\n",
    "\n",
    "For example, one of the most commonly used iterators in Python is the range object, which generates a sequence of numbers:"
   ]
  },
  {
   "cell_type": "code",
   "execution_count": 43,
   "id": "ced65862",
   "metadata": {},
   "outputs": [
    {
     "name": "stdout",
     "output_type": "stream",
     "text": [
      "0 1 2 3 4 5 6 7 8 9 "
     ]
    }
   ],
   "source": [
    "for i in range(10):\n",
    "    print(i, end=' ')"
   ]
  },
  {
   "cell_type": "code",
   "execution_count": 45,
   "id": "1604c1e6",
   "metadata": {},
   "outputs": [
    {
     "data": {
      "text/plain": [
       "[0, 2, 4, 6, 8]"
      ]
     },
     "execution_count": 45,
     "metadata": {},
     "output_type": "execute_result"
    }
   ],
   "source": [
    "# range da 0 a 10 passo 2\n",
    "list(range(0, 10, 2))"
   ]
  },
  {
   "cell_type": "markdown",
   "id": "457ba359",
   "metadata": {},
   "source": [
    "# Example 1\n",
    "Let's create a function that calculates the sum of all the numbers in a list."
   ]
  },
  {
   "cell_type": "code",
   "execution_count": 49,
   "id": "d74ae4ac",
   "metadata": {},
   "outputs": [],
   "source": [
    "x = [1,2,3,4,5,6,7,8,9,10]"
   ]
  },
  {
   "cell_type": "code",
   "execution_count": 63,
   "id": "fa95b52d",
   "metadata": {},
   "outputs": [
    {
     "name": "stdout",
     "output_type": "stream",
     "text": [
      "40\n"
     ]
    }
   ],
   "source": [
    "somma = 1\n",
    "for i in [1,2,3,10,12,5,6]:\n",
    "    somma = somma +i  \n",
    "print(somma)\n"
   ]
  },
  {
   "cell_type": "code",
   "execution_count": null,
   "id": "05758e52",
   "metadata": {},
   "outputs": [],
   "source": []
  },
  {
   "cell_type": "code",
   "execution_count": 55,
   "id": "2eeacf20",
   "metadata": {},
   "outputs": [],
   "source": [
    "def sommanumeri(x):\n",
    "    counter = 0\n",
    "    for i in x:\n",
    "        counter = counter + i\n",
    "    return counter"
   ]
  },
  {
   "cell_type": "code",
   "execution_count": 57,
   "id": "164b2dcd",
   "metadata": {},
   "outputs": [],
   "source": [
    "a = [1,1,2,2,2,2,2,2,2,3,4,5]"
   ]
  },
  {
   "cell_type": "code",
   "execution_count": 61,
   "id": "5c5f1936",
   "metadata": {},
   "outputs": [
    {
     "data": {
      "text/plain": [
       "28"
      ]
     },
     "execution_count": 61,
     "metadata": {},
     "output_type": "execute_result"
    }
   ],
   "source": [
    "sommanumeri(a)"
   ]
  },
  {
   "cell_type": "code",
   "execution_count": null,
   "id": "3211dea8",
   "metadata": {},
   "outputs": [],
   "source": []
  }
 ],
 "metadata": {
  "@webio": {
   "lastCommId": null,
   "lastKernelId": null
  },
  "hide_input": false,
  "kernelspec": {
   "display_name": "Python 3 (ipykernel)",
   "language": "python",
   "name": "python3"
  },
  "language_info": {
   "codemirror_mode": {
    "name": "ipython",
    "version": 3
   },
   "file_extension": ".py",
   "mimetype": "text/x-python",
   "name": "python",
   "nbconvert_exporter": "python",
   "pygments_lexer": "ipython3",
   "version": "3.12.4"
  },
  "varInspector": {
   "cols": {
    "lenName": 16,
    "lenType": 16,
    "lenVar": 40
   },
   "kernels_config": {
    "python": {
     "delete_cmd_postfix": "",
     "delete_cmd_prefix": "del ",
     "library": "var_list.py",
     "varRefreshCmd": "print(var_dic_list())"
    },
    "r": {
     "delete_cmd_postfix": ") ",
     "delete_cmd_prefix": "rm(",
     "library": "var_list.r",
     "varRefreshCmd": "cat(var_dic_list()) "
    }
   },
   "types_to_exclude": [
    "module",
    "function",
    "builtin_function_or_method",
    "instance",
    "_Feature"
   ],
   "window_display": false
  }
 },
 "nbformat": 4,
 "nbformat_minor": 5
}
