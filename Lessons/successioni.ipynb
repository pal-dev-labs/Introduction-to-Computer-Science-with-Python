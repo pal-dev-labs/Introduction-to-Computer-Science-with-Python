{
 "cells": [
  {
   "cell_type": "markdown",
   "id": "2e636ba9-5e3f-451d-8239-2d4f9c0aeadb",
   "metadata": {},
   "source": [
    "# SUCCESSIONI"
   ]
  },
  {
   "cell_type": "markdown",
   "id": "2312fed1-73a6-4577-a859-32c0b4b2c832",
   "metadata": {},
   "source": [
    "Esegui la cella sotto utile per gli esercizi successivi"
   ]
  },
  {
   "cell_type": "code",
   "execution_count": 143,
   "id": "f5172d31-5e4a-4087-81ec-28fe9afbc2e1",
   "metadata": {},
   "outputs": [],
   "source": [
    "import matplotlib.pyplot as plt\n",
    "def grafico_successione(n_values, a_values):\n",
    "    # Crea il grafico\n",
    "    plt.plot(n_values, a_values, marker='o', linestyle='-', color='b', label='$a_n = n^2$')\n",
    "    \n",
    "    # Etichette per gli assi\n",
    "    plt.xlabel('n')\n",
    "    plt.ylabel('$a_n$')\n",
    "    plt.title('Successione $a_n = n^2$')\n",
    "    \n",
    "    # Mostra la legenda\n",
    "    plt.legend()\n",
    "    \n",
    "    # Mostra il grafico\n",
    "    plt.grid(True)\n",
    "    plt.show()"
   ]
  },
  {
   "cell_type": "markdown",
   "id": "4711c936-d179-40da-9e1c-95463819a121",
   "metadata": {},
   "source": [
    "## DEFINIZIONE | Successione  \n",
    "Si chiama **successione** una funzione che ha come dominio l’insieme N dei numeri naturali (eventualmente privato di qualche suo elemento) e come codominio R."
   ]
  },
  {
   "cell_type": "markdown",
   "id": "e1b5f128-d664-4c8a-b197-88b596da2396",
   "metadata": {},
   "source": [
    "I numeri reali corrispondenti degli elementi di N in una successione si dicono **termini della successione** e vengono indicati con una lettera (sempre la stessa, generalmente a) dotata di indice:\n",
    "\n",
    "a₀, a₁, a₂, …, aₙ, …\n",
    "\n",
    "Il simbolo a₀ (da leggere «a con 0») indica il corrispondente di n = 0, il simbolo a₁ indica il corrispondente di n = 1, e così via… L’n-esimo termine della successione, aₙ, è chiamato **termine generale** della successione.\n",
    "\n"
   ]
  },
  {
   "cell_type": "markdown",
   "id": "845bd40e-7bef-45c9-9faa-10ee5f1a1cca",
   "metadata": {},
   "source": [
    "$$\n",
    "a_n = n^2 | $$\n",
    "$$\n",
    "\\text{per } n \\in \\mathbb{N}: $$\n",
    "$$\n",
    "a_0 = 0, a_1 = 1, a_2 = 4, a_3 = 9, \\dots\n",
    "$$"
   ]
  },
  {
   "cell_type": "markdown",
   "id": "8aeaf387-c37d-4f26-acf8-c976a1ea8fcf",
   "metadata": {},
   "source": [
    "## ESEMPIO: generiamo i termini della successione con termine generale $a_n=n^2$"
   ]
  },
  {
   "cell_type": "markdown",
   "id": "d3477288-622d-48e6-b4fc-48bd3ef19c76",
   "metadata": {},
   "source": [
    "Prima specifichiamo il termine generale"
   ]
  },
  {
   "cell_type": "code",
   "execution_count": 70,
   "id": "f3867147-6c90-4be5-8246-880340a660ec",
   "metadata": {},
   "outputs": [],
   "source": [
    "# specifichiamo il termine generale\n",
    "def termine_generale(n):\n",
    "    a = n**2     # modifica questa espressione per cambiare il termine generale\n",
    "    return a"
   ]
  },
  {
   "cell_type": "code",
   "execution_count": null,
   "id": "52711a13-01cd-4af7-ae78-fb1e4dd33951",
   "metadata": {},
   "outputs": [],
   "source": []
  },
  {
   "cell_type": "code",
   "execution_count": 68,
   "id": "d709f259-e048-44cb-a54c-5588fb106e9f",
   "metadata": {},
   "outputs": [
    {
     "name": "stdout",
     "output_type": "stream",
     "text": [
      "a_0 = 0\n",
      "a_1 = 1\n",
      "a_2 = 4\n",
      "a_3 = 9\n",
      "a_4 = 16\n",
      "a_5 = 25\n",
      "a_6 = 36\n",
      "a_7 = 49\n",
      "a_8 = 64\n",
      "a_9 = 81\n",
      "a_10 = 100\n",
      "a_11 = 121\n",
      "a_12 = 144\n",
      "a_13 = 169\n",
      "a_14 = 196\n"
     ]
    }
   ],
   "source": [
    "n_termini = 15  # questa variabile imposta il numero di termini che si desidera generare\n",
    "for n in range(0, n_termini):\n",
    "    print(f\"a_{n} = {termine_generale(n)}\")\n",
    "    "
   ]
  },
  {
   "cell_type": "markdown",
   "id": "dcbf54f4-1ca3-4b4c-a4a1-9cb772a90823",
   "metadata": {},
   "source": [
    "## Ora prova tu: \n",
    "## Genera i termini per $a_n = \\frac{1}{n}$"
   ]
  },
  {
   "cell_type": "code",
   "execution_count": null,
   "id": "39c8de7d-c6b3-44ce-92e8-834555181b38",
   "metadata": {},
   "outputs": [],
   "source": []
  },
  {
   "cell_type": "markdown",
   "id": "69ff7cc5-7872-46f3-a8d0-5b88a64f23ca",
   "metadata": {},
   "source": [
    "## Genera i termini per $a_n = \\sqrt{n - 4}$"
   ]
  },
  {
   "cell_type": "code",
   "execution_count": null,
   "id": "06e648bc-b470-486b-abc4-b5b11a64fae2",
   "metadata": {},
   "outputs": [],
   "source": []
  },
  {
   "cell_type": "markdown",
   "id": "e2c6b942-72de-47b5-b86b-7dda422063a6",
   "metadata": {},
   "source": [
    "## ESERCIZI: Usando il codice sopra, risolvi esercizi da 1 a 9 di pg. 161 libro di testo"
   ]
  },
  {
   "cell_type": "code",
   "execution_count": null,
   "id": "be56bd89-fe5f-4601-8fc2-8c1bc97c57ad",
   "metadata": {},
   "outputs": [],
   "source": []
  },
  {
   "cell_type": "markdown",
   "id": "09021e16-28d3-4c02-a707-af29cbdc0380",
   "metadata": {},
   "source": [
    "# IL GRAFICO DI UNA SUCCESSIONE"
   ]
  },
  {
   "cell_type": "markdown",
   "id": "6e16b6cd-f00d-4951-b81c-562052015311",
   "metadata": {},
   "source": [
    "Una successione può essere **visualizzata graficamente**, rappresentando nel piano cartesiano il grafico della successione, ossia l'insieme delle coppie di punti di coordinate: (0, a₀), (1, a₁), (2, a₂), (3, a₃), ..., (n, aₙ), ...\n",
    "\n"
   ]
  },
  {
   "cell_type": "markdown",
   "id": "f371f5e6-3eff-425e-bc09-d48fa72e56c6",
   "metadata": {},
   "source": [
    "Esegui le celle sotto per generare le coppie di punti della successione $a_n=n^2$"
   ]
  },
  {
   "cell_type": "code",
   "execution_count": 115,
   "id": "21ab9323-932b-44ae-a27a-91b38834a429",
   "metadata": {},
   "outputs": [],
   "source": [
    "indici = []         # creo la lista vuota che conterrà gli indici n della successione (0,1,2,3...)\n",
    "successione = []    # creo la lista vuota che conterrà i termini della successione (0,1,2,3...) "
   ]
  },
  {
   "cell_type": "code",
   "execution_count": 117,
   "id": "6e89338e-3b96-4cfc-9bf0-3fe6325796e7",
   "metadata": {},
   "outputs": [],
   "source": [
    "# specifichiamo il termine generale\n",
    "def termine_generale(n):\n",
    "    a = n**2     # modifica questa espressione per cambiare il termine generale\n",
    "    return a"
   ]
  },
  {
   "cell_type": "code",
   "execution_count": 119,
   "id": "6616d4b7-87c5-430f-90a5-ea3678ea7c1c",
   "metadata": {},
   "outputs": [],
   "source": [
    "n_termini = 10    # numero di termini della successione\n",
    "for n in range(0, n_termini):\n",
    "    indici.append(n)   # aggiungo l'indice corrente alla lista degli indici \n",
    "    successione.append(termine_generale(n))   # calcolo il termine della successione e lo memorizza nella lista\n",
    "    "
   ]
  },
  {
   "cell_type": "code",
   "execution_count": 121,
   "id": "91f86030-fd62-4250-b2f4-dbbd8ae2aeb7",
   "metadata": {},
   "outputs": [
    {
     "data": {
      "text/plain": [
       "[0, 1, 2, 3, 4, 5, 6, 7, 8, 9]"
      ]
     },
     "execution_count": 121,
     "metadata": {},
     "output_type": "execute_result"
    }
   ],
   "source": [
    "indici"
   ]
  },
  {
   "cell_type": "code",
   "execution_count": 123,
   "id": "74ce362e-fdea-4ef3-8635-a2ed2c6162c3",
   "metadata": {},
   "outputs": [
    {
     "data": {
      "text/plain": [
       "[0, 1, 4, 9, 16, 25, 36, 49, 64, 81]"
      ]
     },
     "execution_count": 123,
     "metadata": {},
     "output_type": "execute_result"
    }
   ],
   "source": [
    "successione"
   ]
  },
  {
   "cell_type": "markdown",
   "id": "98e0121a-2fef-4b00-8244-7cda99e767b7",
   "metadata": {},
   "source": [
    "Uso la funzione **grafico_successione** per visualizzare il grafico della successione"
   ]
  },
  {
   "cell_type": "code",
   "execution_count": 126,
   "id": "703e0744-c5ba-44ab-90ef-f8c8ca635b20",
   "metadata": {},
   "outputs": [
    {
     "data": {
      "image/png": "[encoded data removed]",
      "text/plain": [
       "<Figure size 640x480 with 1 Axes>"
      ]
     },
     "metadata": {},
     "output_type": "display_data"
    }
   ],
   "source": [
    "grafico_successione(indici,successione)"
   ]
  },
  {
   "cell_type": "code",
   "execution_count": null,
   "id": "cf1288ce-81fd-4600-baff-dccff4ca5dad",
   "metadata": {},
   "outputs": [],
   "source": []
  },
  {
   "cell_type": "markdown",
   "id": "f595e9b6-67cc-4b0d-bc3f-0e52adbd72e8",
   "metadata": {},
   "source": [
    "## Ora prova tu: \n",
    "## Genera i termini e il grafico per $a_n = \\frac{1}{n}$"
   ]
  },
  {
   "cell_type": "code",
   "execution_count": null,
   "id": "6665ce8e-e6a1-4184-ada0-f1e1870a770d",
   "metadata": {},
   "outputs": [],
   "source": []
  },
  {
   "cell_type": "markdown",
   "id": "425055f0-443f-4a37-8971-baf6e5ada160",
   "metadata": {},
   "source": [
    "## Genera i termini e il grafico per $a_n = \\sqrt{n - 4}$"
   ]
  },
  {
   "cell_type": "code",
   "execution_count": null,
   "id": "f40054e8-ce06-42a3-83bd-ec5c74a0baf3",
   "metadata": {},
   "outputs": [],
   "source": []
  },
  {
   "cell_type": "markdown",
   "id": "03aeb904-fec7-4e0a-b491-887e4cfd14f7",
   "metadata": {},
   "source": [
    "## ESERCIZI: Usando il codice sopra, risolvi esercizi da 12 a 19 di pg. 161 libro di testo"
   ]
  },
  {
   "cell_type": "code",
   "execution_count": null,
   "id": "1258c2e2-b4a8-409e-886b-97cf2ebf3478",
   "metadata": {},
   "outputs": [],
   "source": []
  }
 ],
 "metadata": {
  "kernelspec": {
   "display_name": "Python 3 (ipykernel)",
   "language": "python",
   "name": "python3"
  },
  "language_info": {
   "codemirror_mode": {
    "name": "ipython",
    "version": 3
   },
   "file_extension": ".py",
   "mimetype": "text/x-python",
   "name": "python",
   "nbconvert_exporter": "python",
   "pygments_lexer": "ipython3",
   "version": "3.12.4"
  }
 },
 "nbformat": 4,
 "nbformat_minor": 5
}
