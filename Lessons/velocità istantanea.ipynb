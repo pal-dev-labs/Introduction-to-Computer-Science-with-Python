{
 "cells": [
  {
   "cell_type": "markdown",
   "id": "cae961fa-057f-4b80-87a1-22f48e2293f5",
   "metadata": {},
   "source": [
    "# La velocità istantanea"
   ]
  },
  {
   "cell_type": "markdown",
   "id": "529f5eed-335f-4428-afd1-491a7d215141",
   "metadata": {},
   "source": [
    "La definizione di velocità istantanea $v$ parte della definizione della velocità media $v_m$\n",
    "\n",
    "Consideriamo la legge oraria $x(t) = 2\\frac{m}{s}t$ di un **moto rettilineo uniforme**\n",
    "\n",
    "Consideriamo due istanti di tempo $t_1=2s, t_2=4s$ e calcoliamo **formalmente** la velocità media tra l'istante $t_1$ e l'istante $t_2$\n",
    "\n",
    "$v_m = \\frac{\\Delta{x}}{\\Delta{t}} = \\frac{x(t_2)-x(t_1)}{t_2-t_1} = \\frac{x(4s)-x(2s)}{4s-2s}= \\frac{(2\\frac{m}{s}*4s)-(2\\frac{m}{s}*2s)}{4s-2s} = \\frac{8m-4m}{2s} = 2\\frac{m}{s}$ \n",
    "\n",
    "Proviamo a vedere cosa succede al valore calcolato se facciamo variare $t_1$ e $t_2$"
   ]
  },
  {
   "cell_type": "code",
   "execution_count": 100,
   "id": "e0dfdd0d-5fb2-4835-9735-f5cd7924d508",
   "metadata": {},
   "outputs": [],
   "source": [
    "import ipywidgets as widgets\n",
    "from IPython.display import display, clear_output\n",
    "\n",
    "# Funzione per calcolare e mostrare tutti i valori\n",
    "output = widgets.Output()\n",
    "\n",
    "def calculate_difference(t1, t2):\n",
    "    with output:\n",
    "        clear_output(wait=True)  # Pulisce l'output per ogni nuova visualizzazione\n",
    "        \n",
    "        # Calcola i valori richiesti\n",
    "        x_t1 = x(t1)\n",
    "        x_t2 = x(t2)\n",
    "        delta_x = x_t2 - x_t1\n",
    "        delta_t = t2 - t1\n",
    "        \n",
    "        # Verifica la divisione per zero\n",
    "        if delta_t <= 0:\n",
    "            print(\"Attenzione: t2 deve essere maggiore di t1\")\n",
    "        else:\n",
    "            result = delta_x / delta_t\n",
    "            # Stampa i risultati\n",
    "            print(\"Fai variare gli slider temporali e osserva come variano i valori delle funzioni\")\n",
    "            print(f\"x(t\\u2081) = {x_t1}m\")\n",
    "            print(f\"x(t\\u2082) = {x_t2}m\")\n",
    "            print(f\"\\u0394x = x(t\\u2082) - x(t\\u2081) = {delta_x}m\")\n",
    "            print(f\"\\u0394t = t\\u2082 - t\\u2081 = {delta_t}s\")\n",
    "            print(f\"\\u0394x / \\u0394t : {result}m/s\")"
   ]
  },
  {
   "cell_type": "code",
   "execution_count": 107,
   "id": "ee462bd5-1123-4619-9ef1-5bafe6defff9",
   "metadata": {},
   "outputs": [
    {
     "data": {
      "application/vnd.jupyter.widget-view+json": {
       "model_id": "4de58c75bf69440f8b5d4e3f7d4a2dd9",
       "version_major": 2,
       "version_minor": 0
      },
      "text/plain": [
       "FloatSlider(value=0.0, description='t₁', max=10.0)"
      ]
     },
     "metadata": {},
     "output_type": "display_data"
    },
    {
     "data": {
      "application/vnd.jupyter.widget-view+json": {
       "model_id": "c9d8481bc6144394988ff8d37d51838b",
       "version_major": 2,
       "version_minor": 0
      },
      "text/plain": [
       "FloatSlider(value=1.0, description='t₂', max=10.0)"
      ]
     },
     "metadata": {},
     "output_type": "display_data"
    },
    {
     "data": {
      "application/vnd.jupyter.widget-view+json": {
       "model_id": "16a4f37fa9a44b9384d2b00c90e0a0a2",
       "version_major": 2,
       "version_minor": 0
      },
      "text/plain": [
       "Output(outputs=({'name': 'stdout', 'text': 'Fai variare gli slider temporali e osserva come variano i valori d…"
      ]
     },
     "metadata": {},
     "output_type": "display_data"
    }
   ],
   "source": [
    "# Definisci la funzione x(t)\n",
    "def x(t):\n",
    "    return 2 * t\n",
    "\n",
    "# Crea gli slider per t1 e t2\n",
    "t1_slider = widgets.FloatSlider(value=0, min=0, max=10, step=0.1, description='t\\u2081')\n",
    "t2_slider = widgets.FloatSlider(value=1, min=0, max=10, step=0.1, description='t\\u2082')\n",
    "\n",
    "# Collega gli slider alla funzione di calcolo\n",
    "interactive_output = widgets.interactive_output(calculate_difference, {'t1': t1_slider, 't2': t2_slider})\n",
    "\n",
    "# Mostra gli slider e l'output\n",
    "display(t1_slider, t2_slider, output)\n"
   ]
  },
  {
   "cell_type": "markdown",
   "id": "c4b40ce9-a434-48b6-aaa5-ea84ffa54bc2",
   "metadata": {},
   "source": [
    "Come puoi osservare il valore di $v_m = \\frac{\\Delta{x}}{\\Delta{t}}$ è costante e uguale a $2\\frac{m}{s}$.  \n",
    "Questo perchè il moto analizzato $x(t) = 2\\frac{m}{s}t$ è un moto rettilineo uniforme. "
   ]
  },
  {
   "cell_type": "markdown",
   "id": "d3a29797-dc18-4e9c-9b1c-466120f9f713",
   "metadata": {},
   "source": [
    "Proviamo ora con un moto **Uniformemente accelerato** la cui legge oraria è\n",
    "$x(t) = 2\\frac{m}{s}t - \\frac{1}{2}gt^2$\n",
    "\n",
    "Ricordiamo che la velocità media è definita sempre allo stesso modo.\n",
    "Se consideriamo ancora due istanti di tempo $t_1=2s, t_2=4s$ e calcoliamo **formalmente** la velocità media tra l'istante $t_1$ e l'istante $t_2$\n",
    "\n",
    "$v_m = \\frac{\\Delta{x}}{\\Delta{t}} = \\frac{x(t_2)-x(t_1)}{t_2-t_1} = \\frac{x(4s)-x(2s)}{4s-2s} = \\frac{(2\\frac{m}{s}*4s - \\frac{1}{2}g(4s)^2)-(2\\frac{m}{s}*2s- \\frac{1}{2}g(2s)^2)}{4s-2s}$ \n",
    "\n",
    "Utilizziamo il codice per vedere cosa succede al valore calcolato se facciamo variare $t_1$ e $t_2$"
   ]
  },
  {
   "cell_type": "code",
   "execution_count": 109,
   "id": "e3ccc070-1d13-488a-9af7-24b0eacd31d6",
   "metadata": {},
   "outputs": [
    {
     "data": {
      "application/vnd.jupyter.widget-view+json": {
       "model_id": "05fbc794f4804021b9adc2497eb252eb",
       "version_major": 2,
       "version_minor": 0
      },
      "text/plain": [
       "FloatSlider(value=0.0, description='t₁', max=10.0)"
      ]
     },
     "metadata": {},
     "output_type": "display_data"
    },
    {
     "data": {
      "application/vnd.jupyter.widget-view+json": {
       "model_id": "3bd34853185e408c93d072972b919d83",
       "version_major": 2,
       "version_minor": 0
      },
      "text/plain": [
       "FloatSlider(value=1.0, description='t₂', max=10.0)"
      ]
     },
     "metadata": {},
     "output_type": "display_data"
    },
    {
     "data": {
      "application/vnd.jupyter.widget-view+json": {
       "model_id": "16a4f37fa9a44b9384d2b00c90e0a0a2",
       "version_major": 2,
       "version_minor": 0
      },
      "text/plain": [
       "Output(outputs=({'name': 'stdout', 'text': 'Fai variare gli slider temporali e osserva come variano i valori d…"
      ]
     },
     "metadata": {},
     "output_type": "display_data"
    }
   ],
   "source": [
    "# Definisci la funzione x(t)\n",
    "def x(t):\n",
    "    g = 9.81\n",
    "    value = 2*t - 1/2*g*t**2\n",
    "    return value\n",
    "\n",
    "# Crea gli slider per t1 e t2\n",
    "t1_slider = widgets.FloatSlider(value=0, min=0, max=10, step=0.1, description='t\\u2081')\n",
    "t2_slider = widgets.FloatSlider(value=1, min=0, max=10, step=0.1, description='t\\u2082')\n",
    "\n",
    "# Collega gli slider alla funzione di calcolo\n",
    "interactive_output = widgets.interactive_output(calculate_difference, {'t1': t1_slider, 't2': t2_slider})\n",
    "\n",
    "# Mostra gli slider e l'output\n",
    "display(t1_slider, t2_slider, output)\n"
   ]
  },
  {
   "cell_type": "markdown",
   "id": "dc9867c8-fe34-4d7b-bb33-51ee70aba85f",
   "metadata": {},
   "source": [
    "Al variare di $t_1$ e $t_2$ otteniamo valori molto diversi e difficili da comprendere. Ma andiamo per gradi\n",
    "Osserviamo che $x(t)$ fisicamente rappresenta la posizione verticale del corpo che cade in caduta libera.\n",
    "$t$ rappresenta invece lo scorrere del tempo  \n",
    "**FISSIAMO** ora, nello slider, il valore di $t_1=2s$ e facciamo **VARIARE** lo slider $t_2$   \n",
    "Osserviamo che $x(t_1)$ non varia perchè indica la posizione verticale al tempo $(x(2s)$ che è sempre la stessa  \n",
    "Invece $x(t_2)$ varia perchè stiamo facendo variare $t_2$ e quindi la posizione verticale del corpo varia nel tempo (di fatto aumenta in valore assoluto perchè il corpo precipita verso il basso)\n",
    "\n",
    "Proviamo a vedere il moto graficamente\n"
   ]
  },
  {
   "cell_type": "code",
   "execution_count": 169,
   "id": "2cd04235-2f82-4d20-98e5-c29e3f192a9f",
   "metadata": {},
   "outputs": [
    {
     "data": {
      "application/vnd.jupyter.widget-view+json": {
       "model_id": "66e3e8c29d9843509d9a5bc85f947399",
       "version_major": 2,
       "version_minor": 0
      },
      "text/plain": [
       "FloatSlider(value=2.0, description='t₁', max=10.0)"
      ]
     },
     "metadata": {},
     "output_type": "display_data"
    },
    {
     "data": {
      "application/vnd.jupyter.widget-view+json": {
       "model_id": "ac3034de369c47fea9815a68da62b9ea",
       "version_major": 2,
       "version_minor": 0
      },
      "text/plain": [
       "FloatSlider(value=4.0, description='t₂', max=10.0)"
      ]
     },
     "metadata": {},
     "output_type": "display_data"
    },
    {
     "data": {
      "application/vnd.jupyter.widget-view+json": {
       "model_id": "5ec0372698164cb1a4bce42973550d12",
       "version_major": 2,
       "version_minor": 0
      },
      "text/plain": [
       "Output()"
      ]
     },
     "metadata": {},
     "output_type": "display_data"
    }
   ],
   "source": [
    "import ipywidgets as widgets\n",
    "from IPython.display import display, clear_output\n",
    "import matplotlib.pyplot as plt\n",
    "import numpy as np\n",
    "\n",
    "# Costante gravitazionale\n",
    "g = 9.81\n",
    "\n",
    "# Definisci la funzione x(t) per la legge oraria\n",
    "def x(t):\n",
    "    return 2 * t - 0.5 * g * t ** 2\n",
    "\n",
    "# Output per il testo\n",
    "output = widgets.Output()\n",
    "\n",
    "# Funzione per calcolare e mostrare i valori, e aggiornare il grafico\n",
    "def calculate_and_plot(t1, t2):\n",
    "    with output:\n",
    "        clear_output(wait=True)\n",
    "        \n",
    "        # Calcola i valori richiesti\n",
    "        x_t1 = x(t1)\n",
    "        x_t2 = x(t2)\n",
    "        delta_x = x_t2 - x_t1\n",
    "        delta_t = t2 - t1\n",
    "        \n",
    "        # Verifica la divisione per zero e mostra i valori\n",
    "        if delta_t <= 0:\n",
    "            print(\"Attenzione: t2 deve essere maggiore di t1\")\n",
    "        else:\n",
    "            result = delta_x / delta_t\n",
    "            print(\"Fai variare gli slider temporali e osserva come variano i valori delle funzioni\")\n",
    "            print(f\"x(t\\u2081) = {x_t1:.4f} m\")\n",
    "            print(f\"x(t\\u2082) = {x_t2:.4f} m\")\n",
    "            print(f\"\\u0394x = x(t\\u2082) - x(t\\u2081) = {delta_x:.4f} m\")\n",
    "            print(f\"\\u0394t = t\\u2082 - t\\u2081 = {delta_t:.4f} s\")\n",
    "            print(f\"\\u0394x / \\u0394t : {result:.4f} m/s\")\n",
    "        \n",
    "        # Creazione del grafico del moto della pallina\n",
    "        t_values = np.linspace(0, 10, 100)  # Intervallo temporale da 0 a 10 secondi\n",
    "        x_values = x(t_values)  # Calcola x(t) per ogni valore di t\n",
    "        \n",
    "        # Imposta il grafico\n",
    "        plt.figure(figsize=(8, 4))\n",
    "        plt.plot(t_values, x_values, label=\"x(t) = 2t - 0.5gt²\", color=\"blue\")\n",
    "        plt.scatter([t1, t2], [x_t1, x_t2], color=\"red\")  # Punti t1 e t2\n",
    "        plt.axvline(t1, color='red', linestyle=\"--\", label=\"t1\")\n",
    "        plt.axvline(t2, color='green', linestyle=\"--\", label=\"t2\")\n",
    "        \n",
    "        # Aggiungi etichette e leggenda\n",
    "        plt.xlabel(\"Tempo (s)\")\n",
    "        plt.ylabel(\"Posizione (m)\")\n",
    "        plt.title(\"Moto del corpo in caduta libera\")\n",
    "        plt.legend()\n",
    "        plt.grid(True)\n",
    "        plt.show()\n",
    "\n",
    "# Crea gli slider per t1 e t2\n",
    "t1_slider = widgets.FloatSlider(value=2, min=0, max=10, step=0.1, description='t\\u2081')\n",
    "t2_slider = widgets.FloatSlider(value=4, min=0, max=10, step=0.1, description='t\\u2082')\n",
    "\n",
    "# Collega gli slider alla funzione di calcolo e grafico\n",
    "interactive_output = widgets.interactive_output(calculate_and_plot, {'t1': t1_slider, 't2': t2_slider})\n",
    "\n",
    "# Mostra gli slider e l'output\n",
    "display(t1_slider, t2_slider, output)\n",
    "\n"
   ]
  },
  {
   "cell_type": "markdown",
   "id": "88984e3b-ee71-4b62-89ee-b14671180a25",
   "metadata": {},
   "source": [
    "Riprendiamo fissando $t_1=2s$ e facendo variare $t_2s$  \n",
    "Osserviamo che la **posizione iniziale** è ferma mentre la **posizione finale** varia nel tempo e aumenta man mano che il corpo cade\n",
    "\n",
    "Noi però dobbiamo **fissare l'attenzione** su $\\Delta{x}$ e $\\Delta{t}$\n",
    "\n",
    "Fissiamo $t_1=2s$ e $t_2=8s$ e spostiamo gradualmente $t_2$ verso $t_1$  \n",
    "Osserviamo che il corpo si avvicina sempre più alla posizione iniziale inoltre **$\\Delta{x}$ e $\\Delta{t}$ TENDONO A ZERO**\n",
    "\n",
    "**LA COSA INTERESSANTE E' OSSERVARE IL RAPPORTO TRA $\\Delta{x}$ e $\\Delta{t}$ CHE RICORDIAMO E'$v_m$**\n",
    "\n",
    "**ANCHE SE $\\Delta{x}$ e $\\Delta{t}$ TENDONO A ZERO, IL RAPPORTO $\\frac{\\Delta{x}}{\\Delta{t}}$**\n",
    "## NON TENDE A ZERO!!\n",
    "\n",
    "Proviamo a ridurre la spaziatura tra i tempi.   \n",
    "**NB. CLICCANDO SULLO SLIDER USATE I TASTI FRECCIA A DESTRA E SINISTRA PER SPOSTARE LO SLIDER E AVERE UNO SPOSTAMENTO PIU' FINE**"
   ]
  },
  {
   "cell_type": "code",
   "execution_count": 171,
   "id": "c25dbb12-fc94-4dd4-90ee-6b971facec66",
   "metadata": {},
   "outputs": [
    {
     "data": {
      "application/vnd.jupyter.widget-view+json": {
       "model_id": "8d973ee02c5b4f248e5991e93fa9cb98",
       "version_major": 2,
       "version_minor": 0
      },
      "text/plain": [
       "FloatSlider(value=2.0, description='t₁', max=4.0, min=1.0, step=0.001)"
      ]
     },
     "metadata": {},
     "output_type": "display_data"
    },
    {
     "data": {
      "application/vnd.jupyter.widget-view+json": {
       "model_id": "6d29595081624627a4c67b5c905c9cfd",
       "version_major": 2,
       "version_minor": 0
      },
      "text/plain": [
       "FloatSlider(value=3.0, description='t₂', max=4.0, min=1.0, step=0.001)"
      ]
     },
     "metadata": {},
     "output_type": "display_data"
    },
    {
     "data": {
      "application/vnd.jupyter.widget-view+json": {
       "model_id": "5ec0372698164cb1a4bce42973550d12",
       "version_major": 2,
       "version_minor": 0
      },
      "text/plain": [
       "Output(outputs=({'name': 'stdout', 'text': 'Attenzione: t2 deve essere maggiore di t1\\n', 'output_type': 'stre…"
      ]
     },
     "metadata": {},
     "output_type": "display_data"
    }
   ],
   "source": [
    "# Crea gli slider per t1 e t2\n",
    "t1_slider = widgets.FloatSlider(value=2, min=1, max=4, step=0.001, description='t\\u2081')\n",
    "t2_slider = widgets.FloatSlider(value=3, min=1, max=4, step=0.001, description='t\\u2082')\n",
    "\n",
    "# Collega gli slider alla funzione di calcolo e grafico\n",
    "interactive_output = widgets.interactive_output(calculate_and_plot, {'t1': t1_slider, 't2': t2_slider})\n",
    "\n",
    "# Mostra gli slider e l'output\n",
    "display(t1_slider, t2_slider, output)\n"
   ]
  },
  {
   "cell_type": "markdown",
   "id": "54ccafa0-65e2-45cf-bd73-5f222709888e",
   "metadata": {},
   "source": [
    "Osserviamo che il rapporto **IL RAPPORTO $\\frac{\\Delta{x}}{\\Delta{t}}$ TENDE AD UN VALORE FINITO**, in questo caso -17.62 m/s\n",
    "\n",
    "## QUESTO VALORE FINITO E' IL VALORE DELLA VELOCITA' ISTANTANEA AL TEMPO $t=2s$ (il tempo $t_1$ che avevamo FISSATO)\n",
    "\n",
    "Dal punto di vista formale, considerare il rapporto $\\frac{\\Delta{x}}{\\Delta{t}}$ e far tendere il $\\Delta{t}$ a zero si scrive in questo modo:\n",
    "\n",
    "$\\lim_{\\Delta t \\to 0} \\frac{\\Delta x}{\\Delta t}$  \n",
    "e si legge \"Limite per Delta t che tende a zero di Delta x fratto Delta t\". Nel nostro caso:\n",
    "\n",
    "$\\lim_{\\Delta t \\to 0} \\frac{\\Delta x}{\\Delta t}=-17.62$    \n",
    "In generale questo limite non è sempre un numero finito, ma potrebbe essere infinito (fate l'esercizio di calcolarlo per la funzione $x(t)=\\frac{1}{t}$ nel punto t=0)  \n",
    "Quindi possiamo scrivere che $v_i(2s)=\\lim_{\\Delta t \\to 0} \\frac{\\Delta x}{\\Delta t}=-17.62$ con $v_i$ **velocità istantantanea**  \n",
    "Osserviamo che il $\\lim_{\\Delta t \\to 0} \\frac{\\Delta x}{\\Delta t}$ è calcolato sulla funzione $x(t)$\n",
    "\n",
    "\n",
    "Osserviamo che l'operazione $\\lim_{\\Delta t \\to 0} \\frac{\\Delta x}{\\Delta t}$ è effettuata sulla funzione $x(t)$.\n",
    "Quindi **nel punto t=2**, grazie all'operazione suddetta, associamo alla funzione $x(t)$ il valore -17.62\n",
    "Se il valore calcolato è un valore FINITO chiamiamo il numero -17.62   \n",
    "## DERIVATA PRIMA DELLA FUNZIONE $x(t)$ NEL PUNTO T=2\n",
    "\n",
    "Formalmente si usa la notazione\n",
    "\n",
    "e utilizzeremo la notazione $\\left( \\frac{dx}{dt} \\right)_{(t_0)}\n",
    " = \\lim_{\\Delta t \\to 0} \\frac{\\Delta x}{\\Delta t}$\n",
    "\n",
    "formalmente, ponendo \n",
    "dove $\\Delta{t}=t_2-t_1=h$, $t_0 = t_1$, $t_2=t_1+h$\n",
    "\n",
    "$\\left( \\frac{dx}{dt} \\right)_{(t_0)} = \\lim_{h \\to 0} \\frac{x(t_0 + h) - x(t_0)}{h}$\n",
    "\n",
    "dove $\\Delta{t}=h$, $t_0 = t_1$\n",
    "\n",
    " dove, nel nostro caso, $t_0=2$\n",
    "\n",
    " "
   ]
  },
  {
   "cell_type": "code",
   "execution_count": null,
   "id": "064becec-71ec-485c-9292-8bd3f6c20ac7",
   "metadata": {},
   "outputs": [],
   "source": []
  },
  {
   "cell_type": "code",
   "execution_count": null,
   "id": "31f82344-2340-4e21-9944-3cdb02fca020",
   "metadata": {},
   "outputs": [],
   "source": []
  }
 ],
 "metadata": {
  "kernelspec": {
   "display_name": "Python 3 (ipykernel)",
   "language": "python",
   "name": "python3"
  },
  "language_info": {
   "codemirror_mode": {
    "name": "ipython",
    "version": 3
   },
   "file_extension": ".py",
   "mimetype": "text/x-python",
   "name": "python",
   "nbconvert_exporter": "python",
   "pygments_lexer": "ipython3",
   "version": "3.12.4"
  }
 },
 "nbformat": 4,
 "nbformat_minor": 5
}
