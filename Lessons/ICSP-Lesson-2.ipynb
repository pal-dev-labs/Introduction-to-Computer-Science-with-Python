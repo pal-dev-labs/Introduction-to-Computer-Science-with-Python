{
 "cells": [
  {
   "cell_type": "markdown",
   "id": "e74bb9bf-795d-46fb-b38c-63a1874a7591",
   "metadata": {},
   "source": [
    "# INTRODUCTION TO COMPUTER SCIENCE WITH PYTHON"
   ]
  },
  {
   "cell_type": "code",
   "execution_count": null,
   "id": "4f89da7b-def9-4336-9923-f859ff63f871",
   "metadata": {},
   "outputs": [],
   "source": []
  },
  {
   "cell_type": "markdown",
   "id": "d89864aa-7654-49c0-a998-ad07501b24e6",
   "metadata": {},
   "source": [
    "# LESSON 2: python STRINGS\n",
    "**Strings** are a **sequence of characters** enclosed within single quotes (' ') or double quotes (\" \").  \n",
    "Let's explore the basics of strings in Python."
   ]
  },
  {
   "cell_type": "markdown",
   "id": "1ff2513f-6e13-4454-a558-d60e218f7e51",
   "metadata": {},
   "source": [
    "## 1. Creating Strings"
   ]
  },
  {
   "cell_type": "code",
   "execution_count": 12,
   "id": "c57e48d4-0f6d-421a-a5fa-44a70c5d45e0",
   "metadata": {},
   "outputs": [
    {
     "name": "stdout",
     "output_type": "stream",
     "text": [
      "Hello, World!\n"
     ]
    }
   ],
   "source": [
    "# You can create strings using either single or double quotes.\n",
    "string1 = 'Hello, World!'           # Using single quotes\n",
    "string2 = \"Python is fun!\"          # Using double quotes\n",
    "print(string1)"
   ]
  },
  {
   "cell_type": "code",
   "execution_count": null,
   "id": "08164aaf-883b-4917-82d4-a8becde670eb",
   "metadata": {},
   "outputs": [],
   "source": [
    "print(string2)  # Output: Python is fun!"
   ]
  },
  {
   "cell_type": "code",
   "execution_count": 58,
   "id": "02629d98-b6b1-409a-a86b-f47d2a5cb582",
   "metadata": {},
   "outputs": [
    {
     "name": "stdout",
     "output_type": "stream",
     "text": [
      "This is a \n",
      "multi-line string.\n"
     ]
    }
   ],
   "source": [
    "# You can also create multi-line strings using triple quotes.\n",
    "multi_line_string = \"\"\"This is a \n",
    "multi-line string.\"\"\"\n",
    "print(multi_line_string)               # Output: This is a \\nmulti-line string.\n"
   ]
  },
  {
   "cell_type": "code",
   "execution_count": null,
   "id": "98800fc4-4445-40cc-af4d-00fceee35402",
   "metadata": {},
   "outputs": [],
   "source": []
  },
  {
   "cell_type": "markdown",
   "id": "e7decfc7-71f0-4131-9c07-b33b87ce7db7",
   "metadata": {},
   "source": [
    "## **Exercise**: Try to create some strings"
   ]
  },
  {
   "cell_type": "code",
   "execution_count": null,
   "id": "3af7b996-0d63-4086-a419-b4ff21d40e57",
   "metadata": {},
   "outputs": [],
   "source": []
  },
  {
   "cell_type": "markdown",
   "id": "73d796f0-da80-4a31-a79d-c7324e82328a",
   "metadata": {},
   "source": [
    "## 2. String Concatenation"
   ]
  },
  {
   "cell_type": "code",
   "execution_count": 18,
   "id": "a4be1cdf-7ddb-450d-ac5a-bef465cbc4fb",
   "metadata": {},
   "outputs": [
    {
     "name": "stdout",
     "output_type": "stream",
     "text": [
      "Hello, World! Python is fun!\n"
     ]
    }
   ],
   "source": [
    "# Strings can be concatenated (joined together) using the `+` operator.\n",
    "greeting = string1 + \" \" + string2                # Concatenating two strings\n",
    "print(greeting)                                   # Output: Hello, World! Python is fun!\n"
   ]
  },
  {
   "cell_type": "markdown",
   "id": "c19ce4e0-6ee2-4c17-8d55-0e63bad9216d",
   "metadata": {},
   "source": [
    "## 3. String Repetition\n"
   ]
  },
  {
   "cell_type": "code",
   "execution_count": 65,
   "id": "0f33318e-4207-4f87-8433-f674f48c82c3",
   "metadata": {},
   "outputs": [
    {
     "name": "stdout",
     "output_type": "stream",
     "text": [
      "Echo! Echo! Echo! \n"
     ]
    }
   ],
   "source": [
    "# You can repeat a string using the `*` operator.\n",
    "repeated_string = \"Echo! \" * 3                # Repeat \"Echo! \" three times\n",
    "print(repeated_string)                        # Output: Echo! Echo! Echo! "
   ]
  },
  {
   "cell_type": "markdown",
   "id": "fd5c8a7d-bd7e-43ee-bb7d-78afb74f453b",
   "metadata": {},
   "source": [
    "## **Exercise**: Write the code to print  \n",
    "'m m m m m '  \n",
    "'MammaMammaMammaMaMaMaMaMa'  \n",
    "'cane cane cane canecanecane'  \n"
   ]
  },
  {
   "cell_type": "code",
   "execution_count": null,
   "id": "fc0c1103-1e47-49c6-b7fd-067c6c49ac1e",
   "metadata": {},
   "outputs": [],
   "source": []
  },
  {
   "cell_type": "markdown",
   "id": "7fef24f0-42b9-45df-91b4-f7bca1011530",
   "metadata": {},
   "source": [
    "## 4. Accessing Characters\n"
   ]
  },
  {
   "cell_type": "code",
   "execution_count": 69,
   "id": "fbe1aab6-efe8-4216-b7c2-a4c9dce8aa88",
   "metadata": {},
   "outputs": [
    {
     "name": "stdout",
     "output_type": "stream",
     "text": [
      "H\n"
     ]
    }
   ],
   "source": [
    "# You can access individual characters in a string using indexing.\n",
    "# Python uses zero-based indexing.\n",
    "string1 = 'Hello, World!'            # Using single quotes\n",
    "first_character = string1[0]         # Accessing the first character\n",
    "print(first_character)               # Output: H\n"
   ]
  },
  {
   "cell_type": "code",
   "execution_count": null,
   "id": "f7a29f21-18f7-40fd-add2-60817a2c2374",
   "metadata": {},
   "outputs": [],
   "source": []
  },
  {
   "cell_type": "code",
   "execution_count": 71,
   "id": "ccffd525-f62a-48d1-a7a0-6169eae45579",
   "metadata": {},
   "outputs": [
    {
     "name": "stdout",
     "output_type": "stream",
     "text": [
      "!\n"
     ]
    }
   ],
   "source": [
    "# You can also access characters from the end using negative indexing.\n",
    "last_character = string1[-1]  # Accessing the last character\n",
    "print(last_character)  # Output: !"
   ]
  },
  {
   "cell_type": "markdown",
   "id": "40b7a1c3-8350-4983-a256-ff7258253516",
   "metadata": {},
   "source": [
    "## **Exercise**: Print the character **r** of string1"
   ]
  },
  {
   "cell_type": "markdown",
   "id": "5c1ec008-bce4-4037-94a5-941851c150de",
   "metadata": {},
   "source": [
    "## 5. Slicing Strings"
   ]
  },
  {
   "cell_type": "code",
   "execution_count": 73,
   "id": "c0ccf6ed-3d85-4c29-a5de-fa243bc0a405",
   "metadata": {},
   "outputs": [
    {
     "name": "stdout",
     "output_type": "stream",
     "text": [
      "Hello\n"
     ]
    }
   ],
   "source": [
    "# You can extract a substring from a string using slicing.\n",
    "substring = string1[0:5]  # Getting characters from index 0 to 4 (not inclusive)\n",
    "print(substring)  # Output: Hello"
   ]
  },
  {
   "cell_type": "code",
   "execution_count": 77,
   "id": "b092331f-7166-403e-9b14-ff6749c4c154",
   "metadata": {},
   "outputs": [
    {
     "name": "stdout",
     "output_type": "stream",
     "text": [
      "Hlo ol!\n"
     ]
    }
   ],
   "source": [
    "# You can also slice with a step.\n",
    "step_slice = string1[::2]  # Get every second character\n",
    "print(step_slice)  # Output: Hlo ol!"
   ]
  },
  {
   "cell_type": "markdown",
   "id": "b59634ea-05ae-4178-a00e-c4618b70f88b",
   "metadata": {},
   "source": [
    "## Exercise: String Slicing Challenge  \n",
    "\n",
    "**Objective:** Practice string slicing by extracting specific substrings from a given string.  \n",
    "\n",
    "**Instructions:**\n",
    "\n",
    "Define a string: Create a string variable named sentence that contains the following text:  \n",
    "\"The quick brown fox jumps over the lazy dog.\"\n",
    "\n",
    "Perform the following slicing tasks:  \n",
    "a. Extract and print the first word of the sentence.  \n",
    "b. Extract and print the last word of the sentence.  \n",
    "c. Extract and print the substring \"brown fox\".  \n",
    "d. Extract and print every third character from the sentence.  \n",
    "e. Extract and print the substring \"jumps over\" (without using the specific indices).  "
   ]
  },
  {
   "cell_type": "code",
   "execution_count": null,
   "id": "57bb5360-174a-447e-947a-14958ec2d448",
   "metadata": {},
   "outputs": [],
   "source": []
  },
  {
   "cell_type": "code",
   "execution_count": null,
   "id": "2126e999-08b9-41e2-9194-c18ff13d0431",
   "metadata": {},
   "outputs": [],
   "source": []
  },
  {
   "cell_type": "code",
   "execution_count": null,
   "id": "a68b01b0-707f-4b66-8658-e4b99ed7ea32",
   "metadata": {},
   "outputs": [],
   "source": []
  },
  {
   "cell_type": "markdown",
   "id": "fe677def-c7c1-4b09-8dd4-11e93d652a4b",
   "metadata": {},
   "source": [
    "## Solutions"
   ]
  },
  {
   "cell_type": "code",
   "execution_count": 88,
   "id": "8240417d-dd09-4eb4-a299-165e43bda92f",
   "metadata": {},
   "outputs": [
    {
     "name": "stdout",
     "output_type": "stream",
     "text": [
      "The\n",
      "dog\n",
      "brown fox \n",
      "T i o xusv ea g\n",
      "fox jumps o\n"
     ]
    }
   ],
   "source": [
    "# Step 1: Define the string\n",
    "sentence = \"The quick brown fox jumps over the lazy dog.\"\n",
    "\n",
    "# Step 2: Perform slicing tasks\n",
    "# a. Extract the first word\n",
    "first_word = sentence[0:3]  # The first word \"The\"\n",
    "print(first_word)\n",
    "\n",
    "# b. Extract the last word\n",
    "last_word = sentence[-4:-1]  # The last word \"dog\"\n",
    "print(last_word)\n",
    "\n",
    "# c. Extract the substring \"brown fox\"\n",
    "brown_fox = sentence[10:20]  # The substring \"brown fox\"\n",
    "print(brown_fox)\n",
    "\n",
    "# d. Extract every third character\n",
    "every_third_character = sentence[::3]  # Every third character\n",
    "print(every_third_character)\n",
    "\n",
    "# e. Extract the substring \"jumps over\"\n",
    "jumps_over = sentence[16:27]  # The substring \"jumps over\"\n",
    "print(jumps_over)\n"
   ]
  },
  {
   "cell_type": "markdown",
   "id": "a0cf1657-dd6a-4def-9287-26c738dd5dc7",
   "metadata": {},
   "source": [
    "## 6. String Length"
   ]
  },
  {
   "cell_type": "code",
   "execution_count": 37,
   "id": "29419fd7-c995-4d23-8146-464d9f3d9d44",
   "metadata": {},
   "outputs": [
    {
     "name": "stdout",
     "output_type": "stream",
     "text": [
      "13\n"
     ]
    }
   ],
   "source": [
    "# You can find the length of a string using the `len()` function.\n",
    "length_of_string1 = len(string1)         # Length of string1\n",
    "print(length_of_string1)                 # Output: 13"
   ]
  }
 ],
 "metadata": {
  "kernelspec": {
   "display_name": "Python 3 (ipykernel)",
   "language": "python",
   "name": "python3"
  },
  "language_info": {
   "codemirror_mode": {
    "name": "ipython",
    "version": 3
   },
   "file_extension": ".py",
   "mimetype": "text/x-python",
   "name": "python",
   "nbconvert_exporter": "python",
   "pygments_lexer": "ipython3",
   "version": "3.11.5"
  }
 },
 "nbformat": 4,
 "nbformat_minor": 5
}
