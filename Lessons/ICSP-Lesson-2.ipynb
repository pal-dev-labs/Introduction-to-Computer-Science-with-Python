{
 "cells": [
  {
   "cell_type": "markdown",
   "id": "e74bb9bf-795d-46fb-b38c-63a1874a7591",
   "metadata": {},
   "source": [
    "# INTRODUCTION TO COMPUTER SCIENCE WITH PYTHON"
   ]
  },
  {
   "cell_type": "code",
   "execution_count": null,
   "id": "4f89da7b-def9-4336-9923-f859ff63f871",
   "metadata": {},
   "outputs": [],
   "source": []
  },
  {
   "cell_type": "markdown",
   "id": "d89864aa-7654-49c0-a998-ad07501b24e6",
   "metadata": {},
   "source": [
    "# LESSON 2: python STRINGS and FUNCTIONS\n",
    "**Strings** are a **sequence of characters** enclosed within single quotes (' ') or double quotes (\" \").  \n",
    "Let's explore the basics of strings in Python."
   ]
  },
  {
   "cell_type": "markdown",
   "id": "1ff2513f-6e13-4454-a558-d60e218f7e51",
   "metadata": {},
   "source": [
    "## 1. Creating Strings"
   ]
  },
  {
   "cell_type": "code",
   "execution_count": 12,
   "id": "c57e48d4-0f6d-421a-a5fa-44a70c5d45e0",
   "metadata": {},
   "outputs": [
    {
     "name": "stdout",
     "output_type": "stream",
     "text": [
      "Hello, World!\n"
     ]
    }
   ],
   "source": [
    "# You can create strings using either single or double quotes.\n",
    "string1 = 'Hello, World!'           # Using single quotes\n",
    "string2 = \"Python is fun!\"          # Using double quotes\n",
    "print(string1)"
   ]
  },
  {
   "cell_type": "code",
   "execution_count": null,
   "id": "08164aaf-883b-4917-82d4-a8becde670eb",
   "metadata": {},
   "outputs": [],
   "source": [
    "print(string2)  # Output: Python is fun!"
   ]
  },
  {
   "cell_type": "code",
   "execution_count": 58,
   "id": "02629d98-b6b1-409a-a86b-f47d2a5cb582",
   "metadata": {},
   "outputs": [
    {
     "name": "stdout",
     "output_type": "stream",
     "text": [
      "This is a \n",
      "multi-line string.\n"
     ]
    }
   ],
   "source": [
    "# You can also create multi-line strings using triple quotes.\n",
    "multi_line_string = \"\"\"This is a \n",
    "multi-line string.\"\"\"\n",
    "print(multi_line_string)               # Output: This is a \\nmulti-line string.\n"
   ]
  },
  {
   "cell_type": "code",
   "execution_count": null,
   "id": "98800fc4-4445-40cc-af4d-00fceee35402",
   "metadata": {},
   "outputs": [],
   "source": []
  },
  {
   "cell_type": "markdown",
   "id": "e7decfc7-71f0-4131-9c07-b33b87ce7db7",
   "metadata": {},
   "source": [
    "## **Exercise**: Try to create some strings"
   ]
  },
  {
   "cell_type": "code",
   "execution_count": null,
   "id": "3af7b996-0d63-4086-a419-b4ff21d40e57",
   "metadata": {},
   "outputs": [],
   "source": []
  },
  {
   "cell_type": "markdown",
   "id": "73d796f0-da80-4a31-a79d-c7324e82328a",
   "metadata": {},
   "source": [
    "## 2. String Concatenation"
   ]
  },
  {
   "cell_type": "code",
   "execution_count": 18,
   "id": "a4be1cdf-7ddb-450d-ac5a-bef465cbc4fb",
   "metadata": {},
   "outputs": [
    {
     "name": "stdout",
     "output_type": "stream",
     "text": [
      "Hello, World! Python is fun!\n"
     ]
    }
   ],
   "source": [
    "# Strings can be concatenated (joined together) using the `+` operator.\n",
    "greeting = string1 + \" \" + string2                # Concatenating two strings\n",
    "print(greeting)                                   # Output: Hello, World! Python is fun!\n"
   ]
  },
  {
   "cell_type": "markdown",
   "id": "c19ce4e0-6ee2-4c17-8d55-0e63bad9216d",
   "metadata": {},
   "source": [
    "## 3. String Repetition\n"
   ]
  },
  {
   "cell_type": "code",
   "execution_count": 65,
   "id": "0f33318e-4207-4f87-8433-f674f48c82c3",
   "metadata": {},
   "outputs": [
    {
     "name": "stdout",
     "output_type": "stream",
     "text": [
      "Echo! Echo! Echo! \n"
     ]
    }
   ],
   "source": [
    "# You can repeat a string using the `*` operator.\n",
    "repeated_string = \"Echo! \" * 3                # Repeat \"Echo! \" three times\n",
    "print(repeated_string)                        # Output: Echo! Echo! Echo! "
   ]
  },
  {
   "cell_type": "markdown",
   "id": "fd5c8a7d-bd7e-43ee-bb7d-78afb74f453b",
   "metadata": {},
   "source": [
    "## **Exercise**: Write the code to print  \n",
    "'m m m m m '  \n",
    "'MammaMammaMammaMaMaMaMaMa'  \n",
    "'cane cane cane canecanecane'  \n"
   ]
  },
  {
   "cell_type": "code",
   "execution_count": null,
   "id": "fc0c1103-1e47-49c6-b7fd-067c6c49ac1e",
   "metadata": {},
   "outputs": [],
   "source": []
  },
  {
   "cell_type": "markdown",
   "id": "7fef24f0-42b9-45df-91b4-f7bca1011530",
   "metadata": {},
   "source": [
    "## 4. Accessing Characters\n"
   ]
  },
  {
   "cell_type": "code",
   "execution_count": 69,
   "id": "fbe1aab6-efe8-4216-b7c2-a4c9dce8aa88",
   "metadata": {},
   "outputs": [
    {
     "name": "stdout",
     "output_type": "stream",
     "text": [
      "H\n"
     ]
    }
   ],
   "source": [
    "# You can access individual characters in a string using indexing.\n",
    "# Python uses zero-based indexing.\n",
    "string1 = 'Hello, World!'            # Using single quotes\n",
    "first_character = string1[0]         # Accessing the first character\n",
    "print(first_character)               # Output: H\n"
   ]
  },
  {
   "cell_type": "code",
   "execution_count": null,
   "id": "f7a29f21-18f7-40fd-add2-60817a2c2374",
   "metadata": {},
   "outputs": [],
   "source": []
  },
  {
   "cell_type": "code",
   "execution_count": 71,
   "id": "ccffd525-f62a-48d1-a7a0-6169eae45579",
   "metadata": {},
   "outputs": [
    {
     "name": "stdout",
     "output_type": "stream",
     "text": [
      "!\n"
     ]
    }
   ],
   "source": [
    "# You can also access characters from the end using negative indexing.\n",
    "last_character = string1[-1]  # Accessing the last character\n",
    "print(last_character)  # Output: !"
   ]
  },
  {
   "cell_type": "markdown",
   "id": "40b7a1c3-8350-4983-a256-ff7258253516",
   "metadata": {},
   "source": [
    "## **Exercise**: Print the character **r** of string1"
   ]
  },
  {
   "cell_type": "markdown",
   "id": "5c1ec008-bce4-4037-94a5-941851c150de",
   "metadata": {},
   "source": [
    "## 5. Slicing Strings"
   ]
  },
  {
   "cell_type": "code",
   "execution_count": 73,
   "id": "c0ccf6ed-3d85-4c29-a5de-fa243bc0a405",
   "metadata": {},
   "outputs": [
    {
     "name": "stdout",
     "output_type": "stream",
     "text": [
      "Hello\n"
     ]
    }
   ],
   "source": [
    "# You can extract a substring from a string using slicing.\n",
    "substring = string1[0:5]  # Getting characters from index 0 to 4 (not inclusive)\n",
    "print(substring)  # Output: Hello"
   ]
  },
  {
   "cell_type": "code",
   "execution_count": 77,
   "id": "b092331f-7166-403e-9b14-ff6749c4c154",
   "metadata": {},
   "outputs": [
    {
     "name": "stdout",
     "output_type": "stream",
     "text": [
      "Hlo ol!\n"
     ]
    }
   ],
   "source": [
    "# You can also slice with a step.\n",
    "step_slice = string1[::2]  # Get every second character\n",
    "print(step_slice)  # Output: Hlo ol!"
   ]
  },
  {
   "cell_type": "markdown",
   "id": "b59634ea-05ae-4178-a00e-c4618b70f88b",
   "metadata": {},
   "source": [
    "## Exercise: String Slicing Challenge  \n",
    "\n",
    "**Objective:** Practice string slicing by extracting specific substrings from a given string.  \n",
    "\n",
    "**Instructions:**\n",
    "\n",
    "Define a string: Create a string variable named sentence that contains the following text:  \n",
    "\"The quick brown fox jumps over the lazy dog.\"\n",
    "\n",
    "Perform the following slicing tasks:  \n",
    "a. Extract and print the first word of the sentence.  \n",
    "b. Extract and print the last word of the sentence.  \n",
    "c. Extract and print the substring \"brown fox\".  \n",
    "d. Extract and print every third character from the sentence.  \n",
    "e. Extract and print the substring \"jumps over\" (without using the specific indices).  "
   ]
  },
  {
   "cell_type": "code",
   "execution_count": null,
   "id": "57bb5360-174a-447e-947a-14958ec2d448",
   "metadata": {},
   "outputs": [],
   "source": []
  },
  {
   "cell_type": "code",
   "execution_count": null,
   "id": "2126e999-08b9-41e2-9194-c18ff13d0431",
   "metadata": {},
   "outputs": [],
   "source": []
  },
  {
   "cell_type": "code",
   "execution_count": null,
   "id": "a68b01b0-707f-4b66-8658-e4b99ed7ea32",
   "metadata": {},
   "outputs": [],
   "source": []
  },
  {
   "cell_type": "markdown",
   "id": "fe677def-c7c1-4b09-8dd4-11e93d652a4b",
   "metadata": {},
   "source": [
    "## Solutions"
   ]
  },
  {
   "cell_type": "code",
   "execution_count": 88,
   "id": "8240417d-dd09-4eb4-a299-165e43bda92f",
   "metadata": {},
   "outputs": [
    {
     "name": "stdout",
     "output_type": "stream",
     "text": [
      "The\n",
      "dog\n",
      "brown fox \n",
      "T i o xusv ea g\n",
      "fox jumps o\n"
     ]
    }
   ],
   "source": [
    "# Step 1: Define the string\n",
    "sentence = \"The quick brown fox jumps over the lazy dog.\"\n",
    "\n",
    "# Step 2: Perform slicing tasks\n",
    "# a. Extract the first word\n",
    "first_word = sentence[0:3]  # The first word \"The\"\n",
    "print(first_word)\n",
    "\n",
    "# b. Extract the last word\n",
    "last_word = sentence[-4:-1]  # The last word \"dog\"\n",
    "print(last_word)\n",
    "\n",
    "# c. Extract the substring \"brown fox\"\n",
    "brown_fox = sentence[10:20]  # The substring \"brown fox\"\n",
    "print(brown_fox)\n",
    "\n",
    "# d. Extract every third character\n",
    "every_third_character = sentence[::3]  # Every third character\n",
    "print(every_third_character)\n",
    "\n",
    "# e. Extract the substring \"jumps over\"\n",
    "jumps_over = sentence[16:27]  # The substring \"jumps over\"\n",
    "print(jumps_over)\n"
   ]
  },
  {
   "cell_type": "markdown",
   "id": "a0cf1657-dd6a-4def-9287-26c738dd5dc7",
   "metadata": {},
   "source": [
    "## 6. String Length"
   ]
  },
  {
   "cell_type": "code",
   "execution_count": 37,
   "id": "29419fd7-c995-4d23-8146-464d9f3d9d44",
   "metadata": {},
   "outputs": [
    {
     "name": "stdout",
     "output_type": "stream",
     "text": [
      "13\n"
     ]
    }
   ],
   "source": [
    "# You can find the length of a string using the `len()` function.\n",
    "length_of_string1 = len(string1)         # Length of string1\n",
    "print(length_of_string1)                 # Output: 13"
   ]
  },
  {
   "cell_type": "code",
   "execution_count": null,
   "id": "a4c3623a-67a8-4a46-bdfb-d7f0177a7b34",
   "metadata": {},
   "outputs": [],
   "source": []
  },
  {
   "cell_type": "markdown",
   "id": "f8619804-6c82-4859-8b70-80831ecb6acf",
   "metadata": {},
   "source": [
    "# Introduction to Functions in Python\n",
    "\n",
    "Functions in Python are reusable blocks of code that perform specific tasks. They make the code modular, organized, and easier to maintain. Functions can take inputs (called parameters or arguments), process those inputs, and return an output (return value).\n",
    "\n",
    "### Basic Syntax of a Function\n",
    "\n",
    "A function is defined using the `def` keyword, followed by the function name and parentheses. Inside the parentheses, you can specify parameters (optional). The function body is indented and can include any valid Python code.\n",
    "\n",
    "### General Syntax:\n",
    "\n",
    "```python\n",
    "def function_name(parameters):\n",
    "    # Function body\n",
    "    # Code to execute\n",
    "    return value  # Optional\n"
   ]
  },
  {
   "cell_type": "markdown",
   "id": "733566ab-cac4-40f6-9e3c-3f6a5d48b8ed",
   "metadata": {},
   "source": [
    "**def** is the keyword to define a function.  \n",
    "**function_name** is the name you give to your function.  \n",
    "**parameters** are optional inputs passed to the function.  \n",
    "**The code inside the function** is the logic that gets executed when the function is called.   \n",
    "**return** is optional and is used to return a result from the function.\n"
   ]
  },
  {
   "cell_type": "markdown",
   "id": "85984b70-5295-40da-983a-acc5035fb071",
   "metadata": {},
   "source": [
    "\n",
    "2. **Code Cell: Example 1 - Simple Function Without Parameters**\n",
    "\n",
    "```python\n",
    "# Example 1: Simple Function Without Parameters\n",
    "def greet():\n",
    "    print(\"Hello, welcome to the Python function tutorial!\")\n",
    "\n",
    "# Call the function\n",
    "greet()\n"
   ]
  },
  {
   "cell_type": "markdown",
   "id": "a4be21dc-5e99-45ca-af32-ed92a255eba3",
   "metadata": {},
   "source": [
    "### Explanation:\n",
    "\n",
    "- The function `greet()` is defined without parameters.\n",
    "- Inside the function body, the `print()` statement outputs a welcome message.\n",
    "- To execute this function, simply call it by name: `greet()`.\n",
    "\n",
    "### Output:\n",
    "\n",
    "When you call `greet()`, it will print:\n"
   ]
  },
  {
   "cell_type": "code",
   "execution_count": null,
   "id": "3962ff63-5929-4a23-bebf-605ba38d4793",
   "metadata": {},
   "outputs": [],
   "source": [
    "# Example 2: Function with Parameters\n",
    "def add_numbers(a, b):\n",
    "    return a + b\n",
    "\n",
    "# Call the function with arguments\n",
    "result = add_numbers(10, 5)\n",
    "print(result)\n"
   ]
  },
  {
   "cell_type": "markdown",
   "id": "2bb8b2d5-7d16-4099-ac80-0cbf7968b253",
   "metadata": {},
   "source": [
    "### Explanation:\n",
    "\n",
    "- The function `add_numbers(a, b)` takes two parameters `a` and `b`.\n",
    "- It adds the two parameters using the `+` operator and returns the result using `return`.\n",
    "\n",
    "### Output:\n",
    "\n",
    "The output will be the sum of 10 and 5, which is:\n"
   ]
  },
  {
   "cell_type": "code",
   "execution_count": 39,
   "id": "1ad38845-78bf-4fbe-bd2d-248bcf917f32",
   "metadata": {},
   "outputs": [
    {
     "name": "stdout",
     "output_type": "stream",
     "text": [
      "6\n"
     ]
    }
   ],
   "source": [
    "def f(x):\n",
    "    return 2*x\n",
    "print(f(3))\n"
   ]
  },
  {
   "cell_type": "markdown",
   "id": "49db3c82-e54a-439f-be21-9358523e54f6",
   "metadata": {},
   "source": [
    "Exercises: try to define some functions"
   ]
  },
  {
   "cell_type": "markdown",
   "id": "0b43e031-5e72-4c47-96ea-1e7524095d89",
   "metadata": {},
   "source": [
    "## Example 3: Function with Default Parameters\n"
   ]
  },
  {
   "cell_type": "code",
   "execution_count": null,
   "id": "643908a4-a998-4e5e-9f91-f618233d8549",
   "metadata": {},
   "outputs": [],
   "source": []
  },
  {
   "cell_type": "code",
   "execution_count": 10,
   "id": "6ed86b5a-0a6e-4b8f-b983-e3189d213794",
   "metadata": {},
   "outputs": [
    {
     "name": "stdout",
     "output_type": "stream",
     "text": [
      "Hello, Alice!\n",
      "Hello, Guest!\n"
     ]
    }
   ],
   "source": [
    "# Example 3: Function with Default Parameters\n",
    "def greet_user(name=\"Guest\"):\n",
    "    print(f\"Hello, {name}!\")\n",
    "\n",
    "# Call the function with and without arguments\n",
    "greet_user(\"Alice\")  # Output: Hello, Alice!\n",
    "greet_user()         # Output: Hello, Guest!\n"
   ]
  },
  {
   "cell_type": "markdown",
   "id": "d48f7094-408d-4cb6-8f65-b51dc6e6ee55",
   "metadata": {},
   "source": [
    "### Explanation:\n",
    "\n",
    "- The `greet_user()` function has a parameter `name` with a default value of `\"Guest\"`.\n",
    "- If the function is called without passing any argument, the default value is used.\n",
    "\n",
    "### Output:\n",
    "\n",
    "- Calling `greet_user(\"Alice\")` prints `Hello, Alice!`\n",
    "- Calling `greet_user()` without any argument prints `Hello, Guest!`\n"
   ]
  },
  {
   "cell_type": "markdown",
   "id": "aafc903e-9ce6-4d9e-bcdf-944ee62b7e95",
   "metadata": {},
   "source": [
    "## Example 4: Function that Returns Multiple Values\n"
   ]
  },
  {
   "cell_type": "code",
   "execution_count": 15,
   "id": "cc9298df-f2d1-489e-9bd5-5ebc74d12833",
   "metadata": {},
   "outputs": [
    {
     "name": "stdout",
     "output_type": "stream",
     "text": [
      "Sum: 7, Product: 12\n"
     ]
    }
   ],
   "source": [
    "# Example 4: Function that Returns Multiple Values\n",
    "def sum_and_product(x, y):\n",
    "    sum_result = x + y\n",
    "    product_result = x * y\n",
    "    return sum_result, product_result\n",
    "\n",
    "# Call the function and unpack the result\n",
    "s, p = sum_and_product(3, 4)\n",
    "print(f\"Sum: {s}, Product: {p}\")\n"
   ]
  },
  {
   "cell_type": "markdown",
   "id": "83409495-af20-485f-b3a1-b2f2296bfff8",
   "metadata": {},
   "source": [
    "### Explanation:\n",
    "\n",
    "- The function `sum_and_product()` takes two arguments `x` and `y`.\n",
    "- It calculates the sum and product of the two numbers and returns both results as a tuple.\n",
    "\n",
    "### Output:\n",
    "\n",
    "The output will be:\n"
   ]
  },
  {
   "cell_type": "markdown",
   "id": "d9f59268-5a11-481c-b6ad-a638bbe802da",
   "metadata": {},
   "source": [
    "## Lambda Functions\n",
    "\n",
    "Use the keyword **lambda**\n"
   ]
  },
  {
   "cell_type": "code",
   "execution_count": 46,
   "id": "7c3baff5-5d13-42b8-969a-65e0c807a04b",
   "metadata": {},
   "outputs": [
    {
     "name": "stdout",
     "output_type": "stream",
     "text": [
      "5\n"
     ]
    }
   ],
   "source": [
    "f = lambda x: x+3\n",
    "image = f(2)\n",
    "print(image)"
   ]
  },
  {
   "cell_type": "code",
   "execution_count": 18,
   "id": "79a13be3-8611-428c-b043-8cce9e605afe",
   "metadata": {},
   "outputs": [
    {
     "name": "stdout",
     "output_type": "stream",
     "text": [
      "8\n"
     ]
    }
   ],
   "source": [
    "add = lambda x, y: x + y\n",
    "\n",
    "# Call the lambda function\n",
    "print(add(3, 5))\n"
   ]
  },
  {
   "cell_type": "markdown",
   "id": "6d09ba72-8cff-49a8-bceb-6117cf2c3bc6",
   "metadata": {},
   "source": [
    "### Explanation:\n",
    "\n",
    "- A lambda function is defined using the `lambda` keyword.\n",
    "- It takes two parameters `x` and `y` and returns their sum.\n",
    "- This is equivalent to writing a regular function but in a more concise format.\n",
    "\n",
    "### Output:\n",
    "\n",
    "The output will be:\n"
   ]
  },
  {
   "cell_type": "markdown",
   "id": "9ded2579-f3d5-4261-9257-fb7774529acf",
   "metadata": {},
   "source": [
    "## Best Practices for Writing Functions in Python\n",
    "\n",
    "1. **Use Descriptive Names**: Choose meaningful function names that describe what the function does.\n",
    "2. **Limit the Number of Parameters**: Keep the number of function parameters manageable. Use default values if possible.\n",
    "3. **Return Values**: Always ensure that your function returns a value when needed. If the function doesn’t return anything, it’s good practice to explicitly return `None`.\n",
    "4. **Comment Your Code**: Use comments to explain complex logic or decisions within your functions.\n",
    "5. **Keep Functions Short**: Functions should do one thing, and do it well. If a function becomes too long, consider breaking it into smaller, helper functions.\n"
   ]
  },
  {
   "cell_type": "code",
   "execution_count": null,
   "id": "2936b5ac-245d-40ea-8f19-1267c6fb31b8",
   "metadata": {},
   "outputs": [],
   "source": []
  },
  {
   "cell_type": "code",
   "execution_count": null,
   "id": "f68f1d08-84a4-4595-98c8-ff03f19de89e",
   "metadata": {},
   "outputs": [],
   "source": []
  },
  {
   "cell_type": "code",
   "execution_count": null,
   "id": "74a49d66-27a6-4e80-9bef-a399e76f371d",
   "metadata": {},
   "outputs": [],
   "source": []
  },
  {
   "cell_type": "code",
   "execution_count": null,
   "id": "716d64c2-f0f4-4b78-ac12-93bfdfbfcabd",
   "metadata": {},
   "outputs": [],
   "source": []
  },
  {
   "cell_type": "code",
   "execution_count": null,
   "id": "8c070f16-858e-4454-975c-8a00ffc19a8f",
   "metadata": {},
   "outputs": [],
   "source": []
  },
  {
   "cell_type": "code",
   "execution_count": null,
   "id": "994648e2-4731-4031-9bd5-905377c569b7",
   "metadata": {},
   "outputs": [],
   "source": []
  },
  {
   "cell_type": "code",
   "execution_count": null,
   "id": "7b975b7f-7cd5-4246-ac08-981bf4b930b2",
   "metadata": {},
   "outputs": [],
   "source": []
  },
  {
   "cell_type": "markdown",
   "id": "45519760-9bf8-4b07-a907-95d05f378b9b",
   "metadata": {},
   "source": [
    "# Python Booleans\n"
   ]
  },
  {
   "cell_type": "markdown",
   "id": "3e028401-076e-483f-a55d-0c48db7e6c8d",
   "metadata": {},
   "source": [
    "**Booleans** are one of the basic data types in Python and represent **True** or **False** values.  \n",
    "They are often used in conditions, comparisons, and logical operations.\n"
   ]
  },
  {
   "cell_type": "markdown",
   "id": "990684c0-6182-4ffa-8b1e-bfb39aa4ff7f",
   "metadata": {},
   "source": [
    "# 1. Boolean Values\n"
   ]
  },
  {
   "cell_type": "code",
   "execution_count": 161,
   "id": "e23f6720-2eba-4ac4-9735-9cbe16467f6b",
   "metadata": {},
   "outputs": [
    {
     "name": "stdout",
     "output_type": "stream",
     "text": [
      "True\n",
      "False\n"
     ]
    }
   ],
   "source": [
    "\n",
    "# In Python, the two boolean values are `True` and `False`.\n",
    "# These values are case-sensitive, so you must use uppercase `True` and `False`.\n",
    "is_sunny = True\n",
    "is_raining = False\n",
    "\n",
    "print(is_sunny)   # Output: True\n",
    "print(is_raining) # Output: False"
   ]
  },
  {
   "cell_type": "markdown",
   "id": "7eb7579b-b8d5-477d-9cbd-47c9b1a82d60",
   "metadata": {},
   "source": [
    "# 2. Boolean Expressions  \n",
    "Boolean expressions are statements that evaluate to either `True` or `False`.\n",
    "\n",
    "Let's look at some common boolean expressions using comparison operators.\n",
    "\n",
    "- `==`: Equals\n",
    "- `!=`: Not equals\n",
    "- `>`: Greater than\n",
    "- `<`: Less than\n",
    "- `>=`: Greater than or equal to\n",
    "- `<=`: Less than or equal to\n"
   ]
  },
  {
   "cell_type": "code",
   "execution_count": 168,
   "id": "9e648fc7-a04c-4e96-b3fb-3a61ad05be9c",
   "metadata": {},
   "outputs": [
    {
     "name": "stdout",
     "output_type": "stream",
     "text": [
      "False\n"
     ]
    }
   ],
   "source": [
    "x = 10\n",
    "y = 5\n",
    "\n",
    "# Checking if two values are equal\n",
    "print(x == y)  # Output: False"
   ]
  },
  {
   "cell_type": "code",
   "execution_count": 170,
   "id": "00552370-4f68-43d6-8366-307e1932d117",
   "metadata": {},
   "outputs": [
    {
     "name": "stdout",
     "output_type": "stream",
     "text": [
      "True\n"
     ]
    }
   ],
   "source": [
    "# Checking if x is greater than y\n",
    "print(x > y)  # Output: True"
   ]
  },
  {
   "cell_type": "code",
   "execution_count": 172,
   "id": "797e1837-ed98-4582-bfd4-7faf164a38b1",
   "metadata": {},
   "outputs": [
    {
     "name": "stdout",
     "output_type": "stream",
     "text": [
      "False\n"
     ]
    }
   ],
   "source": [
    "# Checking if x is less than or equal to y\n",
    "print(x <= y)  # Output: False"
   ]
  },
  {
   "cell_type": "markdown",
   "id": "31c29f21-ae38-4dc2-81a3-9a38d90b5344",
   "metadata": {},
   "source": [
    "# 3. Boolean Operations\n",
    "\n",
    "Boolean operators allow you to combine boolean expressions.\n",
    "Common boolean operators include:\n",
    "- `and`: True if both conditions are True\n",
    "- `or`: True if at least one condition is True\n",
    "- `not`: Inverts the boolean value (True becomes False, and False becomes True)"
   ]
  },
  {
   "cell_type": "code",
   "execution_count": null,
   "id": "35cb3407-17cd-4935-9826-bbe1266d554b",
   "metadata": {},
   "outputs": [],
   "source": [
    "# Example of `and`:\n",
    "a = True\n",
    "b = False\n",
    "print(a and b)  # Output: False (both need to be True)"
   ]
  },
  {
   "cell_type": "code",
   "execution_count": null,
   "id": "414997d2-0e94-4bbb-b75a-e83d6593190c",
   "metadata": {},
   "outputs": [],
   "source": [
    "# Example of `or`:\n",
    "print(a or b)  # Output: True (only one needs to be True)"
   ]
  },
  {
   "cell_type": "code",
   "execution_count": null,
   "id": "38364611-e6f0-4e0a-9794-d733c4520aa5",
   "metadata": {},
   "outputs": [],
   "source": [
    "# Example of `not`:\n",
    "print(not a)   # Output: False (inverts True to False)"
   ]
  },
  {
   "cell_type": "code",
   "execution_count": null,
   "id": "dcc7eaae-ba0d-405f-813f-e407d8a3d23f",
   "metadata": {},
   "outputs": [],
   "source": []
  },
  {
   "cell_type": "code",
   "execution_count": null,
   "id": "ce260b80-924a-40c4-b481-0e230b6b0902",
   "metadata": {},
   "outputs": [],
   "source": []
  },
  {
   "cell_type": "markdown",
   "id": "dd499dc5-0df5-4fc7-baf8-8cb060ab73b5",
   "metadata": {},
   "source": [
    "# Conclusion\n",
    "\n",
    "In this lesson, we covered the basics of strings in Python, including creation and operations\n",
    "Strings are an essential part of Python programming, and mastering them will help you handle text data effectively.  \n",
    "We also covered the basics of booleans in Python, including:\n",
    "- Boolean values (`True` and `False`)\n",
    "- Comparison operators\n",
    "- Boolean operators (`and`, `or`, `not`)  \n",
    "Booleans are essential for controlling the flow of programs, especially in conditional statements, loops, and logical operations.\n",
    "\n"
   ]
  },
  {
   "cell_type": "code",
   "execution_count": null,
   "id": "3dca2b6b-9159-4fe3-8721-b5a2cca699e5",
   "metadata": {},
   "outputs": [],
   "source": []
  }
 ],
 "metadata": {
  "kernelspec": {
   "display_name": "Python 3 (ipykernel)",
   "language": "python",
   "name": "python3"
  },
  "language_info": {
   "codemirror_mode": {
    "name": "ipython",
    "version": 3
   },
   "file_extension": ".py",
   "mimetype": "text/x-python",
   "name": "python",
   "nbconvert_exporter": "python",
   "pygments_lexer": "ipython3",
   "version": "3.11.5"
  }
 },
 "nbformat": 4,
 "nbformat_minor": 5
}
