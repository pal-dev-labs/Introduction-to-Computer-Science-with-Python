{
 "cells": [
  {
   "cell_type": "markdown",
   "id": "e74bb9bf-795d-46fb-b38c-63a1874a7591",
   "metadata": {},
   "source": [
    "# INTRODUCTION TO COMPUTER SCIENCE WITH PYTHON"
   ]
  },
  {
   "cell_type": "code",
   "execution_count": null,
   "id": "4f89da7b-def9-4336-9923-f859ff63f871",
   "metadata": {},
   "outputs": [],
   "source": []
  },
  {
   "cell_type": "markdown",
   "id": "f8619804-6c82-4859-8b70-80831ecb6acf",
   "metadata": {},
   "source": [
    "# LESSON 3: python FUNCTIONS\n",
    "Functions in Python are reusable blocks of code that perform specific tasks. They make the code modular, organized, and easier to maintain. Functions can take inputs (called parameters or arguments), process those inputs, and return an output (return value).\n",
    "\n",
    "### Basic Syntax of a Function\n",
    "\n",
    "A function is defined using the `def` keyword, followed by the function name and parentheses. Inside the parentheses, you can specify parameters (optional). The function body is indented and can include any valid Python code.\n",
    "\n",
    "### General Syntax:\n",
    "\n",
    "```python\n",
    "def function_name(parameters):\n",
    "    # Function body\n",
    "    # Code to execute\n",
    "    return value  # Optional\n"
   ]
  },
  {
   "cell_type": "markdown",
   "id": "733566ab-cac4-40f6-9e3c-3f6a5d48b8ed",
   "metadata": {},
   "source": [
    "**def** is the keyword to define a function.  \n",
    "**function_name** is the name you give to your function.  \n",
    "**parameters** are optional inputs passed to the function.  \n",
    "**The code inside the function** is the logic that gets executed when the function is called.   \n",
    "**return** is optional and is used to return a result from the function.\n"
   ]
  },
  {
   "cell_type": "markdown",
   "id": "85984b70-5295-40da-983a-acc5035fb071",
   "metadata": {},
   "source": [
    "\n",
    "2. **Code Cell: Example 1 - Simple Function Without**\n",
    "\n",
    "```python\n",
    "# Example 1: Simple Function that add two numbers\n",
    "def add_numbers(a,b):\n",
    "    c = a + b\n",
    "    return c\n",
    "\n",
    "# Call the function\n",
    "add_numbers(2,5)\n"
   ]
  },
  {
   "cell_type": "markdown",
   "id": "a4be21dc-5e99-45ca-af32-ed92a255eba3",
   "metadata": {},
   "source": [
    "### Explanation:\n",
    "\n",
    "- The function `add_numbers(a,b)` is defined to add 2 numbers given as parameters.\n",
    "- Inside the function body, the `c = a + b` statement execute the sum of the 2 parameters.\n",
    "- The return command give back the value of the variable c\n",
    "- To execute this function, simply call it by name: `add_numbers(a,b)`.\n",
    "\n",
    "### Output:\n",
    "\n",
    "When you call `add_numbers(a,b)`, it will print:\n"
   ]
  },
  {
   "cell_type": "code",
   "execution_count": 11,
   "id": "3962ff63-5929-4a23-bebf-605ba38d4793",
   "metadata": {},
   "outputs": [
    {
     "name": "stdout",
     "output_type": "stream",
     "text": [
      "15\n"
     ]
    }
   ],
   "source": [
    "# Example 2: Function with Parameters\n",
    "def add_numbers(a, b):\n",
    "    return a + b\n",
    "\n",
    "# Call the function with arguments\n",
    "result = add_numbers(10, 5)\n",
    "print(result)\n"
   ]
  },
  {
   "cell_type": "markdown",
   "id": "2bb8b2d5-7d16-4099-ac80-0cbf7968b253",
   "metadata": {},
   "source": [
    "### Explanation:\n",
    "\n",
    "- The function `add_numbers(a, b)` takes two parameters `a` and `b`.\n",
    "- It adds the two parameters using the `+` operator and returns the result using `return`.\n",
    "\n",
    "### Output:\n",
    "\n",
    "The output will be the sum of 10 and 5, which is 15\n"
   ]
  },
  {
   "cell_type": "markdown",
   "id": "962f47cf-0a73-4c9e-a1a2-efa0dba43a42",
   "metadata": {},
   "source": [
    "## Exercise: try to define some functions"
   ]
  },
  {
   "cell_type": "code",
   "execution_count": 39,
   "id": "1ad38845-78bf-4fbe-bd2d-248bcf917f32",
   "metadata": {},
   "outputs": [
    {
     "name": "stdout",
     "output_type": "stream",
     "text": [
      "6\n"
     ]
    }
   ],
   "source": [
    "def f(x):\n",
    "    return 2*x\n",
    "print(f(3))\n"
   ]
  },
  {
   "cell_type": "markdown",
   "id": "c95736a2-9c08-4bbd-bdbd-64ba2d939083",
   "metadata": {},
   "source": []
  },
  {
   "cell_type": "markdown",
   "id": "57233156-ca20-455a-a96a-afc69ea5995b",
   "metadata": {},
   "source": [
    "## With the support of CHATGPT try to define the following functions\n",
    "- Create a function that gives the area of a triangle given high and base  \n",
    "use the following prompt\n",
    "\n",
    "\"Write the python code to create a function that gives the area of a triangle given the 2 parameter base and high\"\n"
   ]
  },
  {
   "cell_type": "code",
   "execution_count": 21,
   "id": "ff7cf2d1-d418-4aea-9f1b-0c1e7c60b771",
   "metadata": {
    "tags": []
   },
   "outputs": [
    {
     "name": "stdout",
     "output_type": "stream",
     "text": [
      "The area of the triangle is: 25.0\n"
     ]
    }
   ],
   "source": [
    "def triangle_area(base, height):\n",
    "    \"\"\"\n",
    "    Calculate the area of a triangle given the base and height.\n",
    "\n",
    "    Parameters:\n",
    "    base (float): The base of the triangle.\n",
    "    height (float): The height of the triangle.\n",
    "\n",
    "    Returns:\n",
    "    float: The area of the triangle.\n",
    "    \"\"\"\n",
    "    area = 0.5 * base * height\n",
    "    return area\n",
    "\n",
    "# Example usage:\n",
    "base = 10\n",
    "height = 5\n",
    "print(f\"The area of the triangle is: {triangle_area(base, height)}\")\n"
   ]
  },
  {
   "cell_type": "code",
   "execution_count": null,
   "id": "9ae5accf-8363-4e15-b3b7-3465828e4b82",
   "metadata": {},
   "outputs": [],
   "source": []
  },
  {
   "cell_type": "markdown",
   "id": "49acbcef-a440-449a-8f0a-dc7de54ab4bd",
   "metadata": {},
   "source": [
    "## Write a function that takes a string (a sentence) and returns the number of words in it.\n"
   ]
  },
  {
   "cell_type": "code",
   "execution_count": 31,
   "id": "225c88f5-27b1-404e-8337-b0a40b251dfa",
   "metadata": {
    "tags": []
   },
   "outputs": [],
   "source": [
    "def word_count(sentence):\n",
    "    return len(sentence.split())"
   ]
  },
  {
   "cell_type": "code",
   "execution_count": 33,
   "id": "79bcf7ae-dd20-4d0e-908e-83f8b34eba64",
   "metadata": {
    "tags": []
   },
   "outputs": [
    {
     "name": "stdout",
     "output_type": "stream",
     "text": [
      "4\n"
     ]
    }
   ],
   "source": [
    "sentence = \"This is a sentence\"\n",
    "length = word_count(sentence)\n",
    "print (length)"
   ]
  },
  {
   "cell_type": "markdown",
   "id": "aafc903e-9ce6-4d9e-bcdf-944ee62b7e95",
   "metadata": {},
   "source": [
    "## Function that Returns Multiple Values\n"
   ]
  },
  {
   "cell_type": "code",
   "execution_count": 15,
   "id": "cc9298df-f2d1-489e-9bd5-5ebc74d12833",
   "metadata": {},
   "outputs": [
    {
     "name": "stdout",
     "output_type": "stream",
     "text": [
      "Sum: 7, Product: 12\n"
     ]
    }
   ],
   "source": [
    "# Example 4: Function that Returns Multiple Values\n",
    "def sum_and_product(x, y):\n",
    "    sum_result = x + y\n",
    "    product_result = x * y\n",
    "    return sum_result, product_result\n",
    "\n",
    "# Call the function and unpack the result\n",
    "s, p = sum_and_product(3, 4)\n",
    "print(f\"Sum: {s}, Product: {p}\")\n"
   ]
  },
  {
   "cell_type": "markdown",
   "id": "83409495-af20-485f-b3a1-b2f2296bfff8",
   "metadata": {},
   "source": [
    "### Explanation:\n",
    "\n",
    "- The function `sum_and_product()` takes two arguments `x` and `y`.\n",
    "- It calculates the sum and product of the two numbers and returns both results as a tuple.\n",
    "\n",
    "### Output:\n",
    "\n",
    "The output will be:\n"
   ]
  },
  {
   "cell_type": "markdown",
   "id": "c5f4ba36-7da7-494a-b8b5-6db2afc5c8c8",
   "metadata": {},
   "source": [
    "## Let's try to plot a function $f: \\mathbb{R} \\rightarrow \\mathbb{R}$"
   ]
  },
  {
   "cell_type": "code",
   "execution_count": 8,
   "id": "2d022127-cd5e-4118-87f2-f3e2eb2eb04e",
   "metadata": {
    "tags": []
   },
   "outputs": [],
   "source": [
    "# This is a convenience function for the moment. Just run this cell even if you don't know what it does\n",
    "# DO NOT MODIFY \n",
    "import numpy as np  # For numerical operations and creating arrays\n",
    "import matplotlib.pyplot as plt  # For plotting\n",
    "\n",
    "def plot_function(func, x_range, num_points=500):\n",
    "    \"\"\"\n",
    "    Plots the given mathematical function.\n",
    "\n",
    "    Parameters:\n",
    "    - func: The function to plot, defined by the user.\n",
    "    - x_range: A tuple specifying the range of x values (min, max).\n",
    "    - num_points: The number of points to plot within the x_range (default is 500).\n",
    "    \"\"\"\n",
    "    # Generate an array of x values over the specified range\n",
    "    x = np.linspace(x_range[0], x_range[1], num_points)\n",
    "\n",
    "    # Calculate corresponding y values by applying the user-defined function\n",
    "    y = func(x)\n",
    "\n",
    "    # Plot the function\n",
    "    plt.plot(x, y, label=f'f(x) = {func.__name__}', color='blue')\n",
    "\n",
    "    # Add labels and title\n",
    "    plt.xlabel('x')\n",
    "    plt.ylabel('f(x)')\n",
    "    plt.title(f'Plot of f(x) = {func.__name__}')\n",
    "\n",
    "    # Add a grid and legend\n",
    "    plt.grid(True)\n",
    "    plt.legend()\n",
    "\n",
    "    # Show the plot\n",
    "    plt.show()"
   ]
  },
  {
   "cell_type": "code",
   "execution_count": 30,
   "id": "74ddb238-8020-438e-af40-b23f0e0389dc",
   "metadata": {
    "tags": []
   },
   "outputs": [
    {
     "data": {
      "image/png": "[encoded data removed]",
      "text/plain": [
       "<Figure size 640x480 with 1 Axes>"
      ]
     },
     "metadata": {},
     "output_type": "display_data"
    }
   ],
   "source": [
    "# Define the function to plot\n",
    "\n",
    "# for sqrt(x) use np.sqrt(x)\n",
    "# for sin(x) use np.sin(x)\n",
    "\n",
    "def my_function(x):\n",
    "    \n",
    "    f = x**2-2*x\n",
    "    # to change function uncomment this\n",
    "    # f = np.sin(x)\n",
    "    # f = np.cos(x)\n",
    "    # f = (1-x**2)/np.sqrt(1+x**2)\n",
    "    return f  \n",
    "\n",
    "left_endpoint = -10\n",
    "righ_endpoint = +10 \n",
    "# Example usage: plot the user-defined function\n",
    "plot_function(my_function, (left_endpoint, righ_endpoint))\n"
   ]
  },
  {
   "cell_type": "code",
   "execution_count": 20,
   "id": "1c0f73b3-ff68-4118-a2b8-7da518643cd7",
   "metadata": {},
   "outputs": [
    {
     "name": "stderr",
     "output_type": "stream",
     "text": [
      "/var/folders/s5/gcy6hmzn6zgd1mwk8vv9g7gr0000gn/T/ipykernel_2278/1580086014.py:2: RuntimeWarning: invalid value encountered in sqrt\n",
      "  np.sqrt(x)\n"
     ]
    },
    {
     "data": {
      "text/plain": [
       "array([       nan,        nan,        nan,        nan,        nan,\n",
       "              nan,        nan,        nan,        nan,        nan,\n",
       "              nan,        nan,        nan,        nan,        nan,\n",
       "              nan,        nan,        nan,        nan,        nan,\n",
       "              nan,        nan,        nan,        nan,        nan,\n",
       "       0.45175395, 0.7824608 , 1.01015254, 1.19522861, 1.35526185,\n",
       "       1.49829835, 1.62882204, 1.74963553, 1.86262926, 1.96914982,\n",
       "       2.07019668, 2.16653584, 2.25876976, 2.34738239, 2.43276948,\n",
       "       2.51525955, 2.59512887, 2.67261242, 2.74791201, 2.82120252,\n",
       "       2.89263668, 2.96234876, 3.03045763, 3.09706906, 3.16227766])"
      ]
     },
     "execution_count": 20,
     "metadata": {},
     "output_type": "execute_result"
    }
   ],
   "source": [
    "x = np.linspace(-10, 10, 50)\n",
    "np.sqrt(x)"
   ]
  },
  {
   "cell_type": "code",
   "execution_count": 18,
   "id": "3f26b62b-a872-4aa8-985f-9ee8f81097a0",
   "metadata": {},
   "outputs": [
    {
     "data": {
      "text/plain": [
       "array([-10.        ,  -9.59183673,  -9.18367347,  -8.7755102 ,\n",
       "        -8.36734694,  -7.95918367,  -7.55102041,  -7.14285714,\n",
       "        -6.73469388,  -6.32653061,  -5.91836735,  -5.51020408,\n",
       "        -5.10204082,  -4.69387755,  -4.28571429,  -3.87755102,\n",
       "        -3.46938776,  -3.06122449,  -2.65306122,  -2.24489796,\n",
       "        -1.83673469,  -1.42857143,  -1.02040816,  -0.6122449 ,\n",
       "        -0.20408163,   0.20408163,   0.6122449 ,   1.02040816,\n",
       "         1.42857143,   1.83673469,   2.24489796,   2.65306122,\n",
       "         3.06122449,   3.46938776,   3.87755102,   4.28571429,\n",
       "         4.69387755,   5.10204082,   5.51020408,   5.91836735,\n",
       "         6.32653061,   6.73469388,   7.14285714,   7.55102041,\n",
       "         7.95918367,   8.36734694,   8.7755102 ,   9.18367347,\n",
       "         9.59183673,  10.        ])"
      ]
     },
     "execution_count": 18,
     "metadata": {},
     "output_type": "execute_result"
    }
   ],
   "source": [
    "x"
   ]
  },
  {
   "cell_type": "markdown",
   "id": "d9f59268-5a11-481c-b6ad-a638bbe802da",
   "metadata": {},
   "source": [
    "## Lambda Functions (Anonymous Functions)\n",
    "\n",
    "Use the keyword **lambda**\n"
   ]
  },
  {
   "cell_type": "code",
   "execution_count": 46,
   "id": "7c3baff5-5d13-42b8-969a-65e0c807a04b",
   "metadata": {},
   "outputs": [
    {
     "name": "stdout",
     "output_type": "stream",
     "text": [
      "5\n"
     ]
    }
   ],
   "source": [
    "f = lambda x: x+3\n",
    "image = f(2)\n",
    "print(image)"
   ]
  },
  {
   "cell_type": "code",
   "execution_count": 18,
   "id": "79a13be3-8611-428c-b043-8cce9e605afe",
   "metadata": {},
   "outputs": [
    {
     "name": "stdout",
     "output_type": "stream",
     "text": [
      "8\n"
     ]
    }
   ],
   "source": [
    "add = lambda x, y: x + y\n",
    "\n",
    "# Call the lambda function\n",
    "print(add(3, 5))\n"
   ]
  },
  {
   "cell_type": "markdown",
   "id": "6d09ba72-8cff-49a8-bceb-6117cf2c3bc6",
   "metadata": {},
   "source": [
    "### Explanation:\n",
    "\n",
    "- A lambda function is defined using the `lambda` keyword.\n",
    "- It takes two parameters `x` and `y` and returns their sum.\n",
    "- This is equivalent to writing a regular function but in a more concise format.\n",
    "\n",
    "### Output:\n",
    "\n",
    "The output will be:\n"
   ]
  },
  {
   "cell_type": "markdown",
   "id": "9ded2579-f3d5-4261-9257-fb7774529acf",
   "metadata": {},
   "source": [
    "## Best Practices for Writing Functions in Python\n",
    "\n",
    "1. **Use Descriptive Names**: Choose meaningful function names that describe what the function does.\n",
    "2. **Limit the Number of Parameters**: Keep the number of function parameters manageable. Use default values if possible.\n",
    "3. **Return Values**: Always ensure that your function returns a value when needed. If the function doesn’t return anything, it’s good practice to explicitly return `None`.\n",
    "4. **Comment Your Code**: Use comments to explain complex logic or decisions within your functions.\n",
    "5. **Keep Functions Short**: Functions should do one thing, and do it well. If a function becomes too long, consider breaking it into smaller, helper functions.\n"
   ]
  },
  {
   "cell_type": "code",
   "execution_count": null,
   "id": "3dca2b6b-9159-4fe3-8721-b5a2cca699e5",
   "metadata": {},
   "outputs": [],
   "source": []
  }
 ],
 "metadata": {
  "kernelspec": {
   "display_name": "Python 3 (ipykernel)",
   "language": "python",
   "name": "python3"
  },
  "language_info": {
   "codemirror_mode": {
    "name": "ipython",
    "version": 3
   },
   "file_extension": ".py",
   "mimetype": "text/x-python",
   "name": "python",
   "nbconvert_exporter": "python",
   "pygments_lexer": "ipython3",
   "version": "3.12.4"
  }
 },
 "nbformat": 4,
 "nbformat_minor": 5
}
