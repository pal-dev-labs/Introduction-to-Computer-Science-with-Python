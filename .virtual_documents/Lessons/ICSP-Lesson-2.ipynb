











# You can create strings using either single or double quotes.
string1 = 'Hello, World!'           # Using single quotes
string2 = "Python is fun!"          # Using double quotes
print(string1)


print(string2)  # Output: Python is fun!


# You can also create multi-line strings using triple quotes.
multi_line_string = """This is a 
multi-line string."""
print(multi_line_string)               # Output: This is a \nmulti-line string.















# Strings can be concatenated (joined together) using the `+` operator.
greeting = string1 + " " + string2                # Concatenating two strings
print(greeting)                                   # Output: Hello, World! Python is fun!






# You can repeat a string using the `*` operator.
repeated_string = "Echo! " * 3                # Repeat "Echo! " three times
print(repeated_string)                        # Output: Echo! Echo! Echo! 











# You can access individual characters in a string using indexing.
# Python uses zero-based indexing.
string1 = 'Hello, World!'            # Using single quotes
first_character = string1[0]         # Accessing the first character
print(first_character)               # Output: H






# You can also access characters from the end using negative indexing.
last_character = string1[-1]  # Accessing the last character
print(last_character)  # Output: !








# You can extract a substring from a string using slicing.
substring = string1[0:5]  # Getting characters from index 0 to 4 (not inclusive)
print(substring)  # Output: Hello


# You can also slice with a step.
step_slice = string1[::2]  # Get every second character
print(step_slice)  # Output: Hlo ol!

















# Step 1: Define the string
sentence = "The quick brown fox jumps over the lazy dog."

# Step 2: Perform slicing tasks
# a. Extract the first word
first_word = sentence[0:3]  # The first word "The"
print(first_word)

# b. Extract the last word
last_word = sentence[-4:-1]  # The last word "dog"
print(last_word)

# c. Extract the substring "brown fox"
brown_fox = sentence[10:20]  # The substring "brown fox"
print(brown_fox)

# d. Extract every third character
every_third_character = sentence[::3]  # Every third character
print(every_third_character)

# e. Extract the substring "jumps over"
jumps_over = sentence[16:27]  # The substring "jumps over"
print(jumps_over)






# You can find the length of a string using the `len()` function.
length_of_string1 = len(string1)         # Length of string1
print(length_of_string1)                 # Output: 13












# In Python, the two boolean values are `True` and `False`.
# These values are case-sensitive, so you must use uppercase `True` and `False`.
is_sunny = True
is_raining = False

print(is_sunny)   # Output: True
print(is_raining) # Output: False





x = 10
y = 5

# Checking if two values are equal
print(x == y)  # Output: False


# Checking if x is greater than y
print(x > y)  # Output: True


# Checking if x is less than or equal to y
print(x <= y)  # Output: False





# Example of `and`:
a = True
b = False
print(a and b)  # Output: False (both need to be True)


# Example of `or`:
print(a or b)  # Output: True (only one needs to be True)


# Example of `not`:
print(not a)   # Output: False (inverts True to False)












