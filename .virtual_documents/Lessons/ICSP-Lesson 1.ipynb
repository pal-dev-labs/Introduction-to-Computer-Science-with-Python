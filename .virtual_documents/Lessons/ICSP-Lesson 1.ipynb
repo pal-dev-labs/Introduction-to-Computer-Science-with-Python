

















5+3


(5-4)/2














(1 / 4 + 2 * (1 / 5 - (1 + 1 / 3))) ** 2





a = 10      # a is the name of the VARIABLE, a=10 is an ASSIGNMENT
b = 10*2-4  # 10*2-4 is an EXPRESSION, b = 10*2-4 is an ASSIGNMENT
print(b)    # this is a PRINT STATEMENT


c = a /b 
print(c)


d = a**2-2+3
print("The result is: ",d)


a1 = 30
b1 = 12
a1//b1   # this gives the quotient removing the fractional part


a1 = 8
b1 = 3
a1%b1   # this gives the modulus, the integer remainder after the division of a1 and b1





a = 10      # this is a comment and I can write a description of the command. 
            # for example now I'm assigning the value 10 to the variable a






base = 10
high = 20
area = base * high /2
print (area)





base = float(input("Insert the base: "))
base = float(input("Insert the high: "))
area = base * high /2
print ("The area of the triangle is: ",area)





school = "IIS Guidona"   # I assign the string "IIS GUIDONIA" to the variable school
print (school)





a = "The name of this course is: "
b = "Introduction to Computer Scientist with Python"
c = a + b
print(c)
