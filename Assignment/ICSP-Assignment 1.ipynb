{
 "cells": [
  {
   "cell_type": "markdown",
   "id": "552a736a-bf5b-4cba-8448-d3ce25761e0f",
   "metadata": {},
   "source": [
    "# INTRODUCTION TO COMPUTER SCIENCE WITH PYTHON  \n",
    "## ASSIGNMENT 1"
   ]
  },
  {
   "cell_type": "markdown",
   "id": "79080c0c-bc00-450d-b4b3-e579683a9ff0",
   "metadata": {},
   "source": [
    "## ARITHMETICS OPERATORS\n",
    "\n",
    "| Operator     | Name           | Description                                            |\n",
    "|--------------|----------------|--------------------------------------------------------|\n",
    "| ``a + b``    | Addition       | Sum of ``a`` and ``b``                                 |\n",
    "| ``a - b``    | Subtraction    | Difference of ``a`` and ``b``                          |\n",
    "| ``a * b``    | Multiplication | Product of ``a`` and ``b``                             |\n",
    "| ``a / b``    | True division  | Quotient of ``a`` and ``b``                            |\n",
    "| ``a // b``   | Floor division | Quotient of ``a`` and ``b``, removing fractional parts |\n",
    "| ``a % b``    | Modulus        | Integer remainder after division of ``a`` by ``b``     |\n",
    "| ``a ** b``   | Exponentiation | ``a`` raised to the power of ``b``                     |\n",
    "| ``-a``       | Negation       | The negative of ``a``                                  |"
   ]
  },
  {
   "cell_type": "markdown",
   "id": "a6630ec4-8810-40bc-9480-0ea5a8ce9cb8",
   "metadata": {},
   "source": [
    "## ARITHMETICS OPERATIONS: use the operators above to perform the following exercises\n"
   ]
  },
  {
   "cell_type": "markdown",
   "id": "a7dd1edb-835f-45b1-af7c-4b40ddd381bb",
   "metadata": {},
   "source": [
    "### EXERCISE 1.2:\n",
    "Reduce 5132° to an angle smaller than a full rotation, writing the corretc expression\n",
    "(Result: 92°)"
   ]
  },
  {
   "cell_type": "code",
   "execution_count": null,
   "id": "5019a207-1676-445d-8101-dcaec629137d",
   "metadata": {},
   "outputs": [],
   "source": []
  },
  {
   "cell_type": "code",
   "execution_count": null,
   "id": "35b37440-0f7b-495f-a42a-6a158c8c6612",
   "metadata": {},
   "outputs": [],
   "source": []
  },
  {
   "cell_type": "markdown",
   "id": "3be8ef47-19dd-4dd9-9581-0e0ab7c80016",
   "metadata": {},
   "source": [
    "### EXERCISE 1.3:\n",
    "It is now 16:00; what time will it be in 549 hours? Write an expression that provides the result  \n",
    "(Result: 13:00)"
   ]
  },
  {
   "cell_type": "code",
   "execution_count": null,
   "id": "deca03d0-6d3c-4790-962b-a875ba216686",
   "metadata": {},
   "outputs": [],
   "source": []
  },
  {
   "cell_type": "markdown",
   "id": "f6c75848-9a4a-4f7d-808b-bea5ca42286a",
   "metadata": {},
   "source": [
    "### EXERCISE 1.4:\n",
    "Write the following mathematical expressions and calculate the result:\n",
    "\n",
    "$$\n",
    "\\frac{5 + 3}{6 - 2}, \\quad 25^{\\frac{1}{2}}, \\quad \\frac{3(2+5) - \\frac{10}{4-2}}{1}, \\quad [3(5-3)]^2\n",
    "$$\n",
    "\n",
    "The results should be:  \n",
    "**2.0, 5.0, 16.0, 36**"
   ]
  },
  {
   "cell_type": "code",
   "execution_count": null,
   "id": "5968be3c-b562-41c6-8c3a-4a0a91a21c30",
   "metadata": {},
   "outputs": [],
   "source": []
  },
  {
   "cell_type": "markdown",
   "id": "3b06fab7-3425-4c28-958d-ca3f095ee1ff",
   "metadata": {},
   "source": [
    "### EXERCISE 1.5:\n",
    "Write an expression that gives the following results:\n",
    "- 18\n",
    "- 3.5\n",
    "- 1000000"
   ]
  },
  {
   "cell_type": "code",
   "execution_count": null,
   "id": "8477cc39-620f-41f9-8600-ad5a2734ef26",
   "metadata": {},
   "outputs": [],
   "source": []
  },
  {
   "cell_type": "markdown",
   "id": "a941661a-0241-49b9-ba2b-269f26ea666b",
   "metadata": {},
   "source": [
    "You can see the results here https://ncassetta.altervista.org/Tutorial_Python/Soluzioni.html#Lezione_1\n"
   ]
  },
  {
   "cell_type": "markdown",
   "id": "495c08cf-20f5-42b4-9377-6ba8df27d742",
   "metadata": {},
   "source": [
    "### EXERCISE 1.6:\n",
    "Perform the following quiz\n",
    "https://ncassetta.altervista.org/Tutorial_Python/quiz/L01_quiz.htm?"
   ]
  },
  {
   "cell_type": "markdown",
   "id": "12722df7-c5f7-4e03-b424-48b82ceaaa67",
   "metadata": {},
   "source": [
    "## VARIABLES: use variables and arithmetics operators to perform the below exercises"
   ]
  },
  {
   "cell_type": "markdown",
   "id": "007796a0-07ae-4077-9c4d-196f8aebee49",
   "metadata": {},
   "source": [
    "### EXERCISE 1.7:\n",
    "calculate the value of the following polynomial with a=5, b=3, c= 12\n",
    "$$2a^2b - 4abc + 4ac^2 + 8abc^3$$\n",
    "\n"
   ]
  },
  {
   "cell_type": "code",
   "execution_count": null,
   "id": "1a809ad9-0512-49d4-9bab-2aa1680a771d",
   "metadata": {},
   "outputs": [],
   "source": []
  },
  {
   "cell_type": "markdown",
   "id": "9a531843-0fe4-4d43-90c7-33eb489c84d0",
   "metadata": {},
   "source": [
    "### EXERCISE 1.8:\n",
    "calculate the value of the following polynomial with x = $\\frac{1}{5}$\n",
    "$$x^5 - x^3 + x^2 - x + 1$$"
   ]
  },
  {
   "cell_type": "code",
   "execution_count": null,
   "id": "b3788409-450d-4911-aca4-c3c41e793dd7",
   "metadata": {},
   "outputs": [],
   "source": []
  },
  {
   "cell_type": "markdown",
   "id": "aa084b40-d3d9-4698-a6f9-f268aa11e7f2",
   "metadata": {},
   "source": [
    "### EXERCISE 1.9:\n",
    "calculate the value of the following polynomial with x = 2 (results $\\frac{1}{3})$\n",
    "$$\n",
    "\\left[\\left(\\frac{2x}{x^2+2x+1}-\\frac{x}{x-1}\\right):\\left(\\frac{x}{x^2-1}-2x\\right)\\right]:\\left(\\frac{9}{4x^2-6}+\\frac{1}{2}\\right)\n",
    "$$"
   ]
  },
  {
   "cell_type": "markdown",
   "id": "2fa06823-45c9-49db-bfc8-baf9ff5eef3b",
   "metadata": {},
   "source": [
    "### EXERCISE 1.10:\n",
    "calculate the volume of the sphere and the cylinder. The radius and the high must be inserted by the user with input command"
   ]
  },
  {
   "cell_type": "code",
   "execution_count": null,
   "id": "f15e6a29-e2ae-4535-8bf4-eec1a2fa1640",
   "metadata": {},
   "outputs": [],
   "source": []
  },
  {
   "cell_type": "code",
   "execution_count": null,
   "id": "01fda352-9102-4659-b1fe-1494e67f7116",
   "metadata": {},
   "outputs": [],
   "source": []
  },
  {
   "cell_type": "markdown",
   "id": "d737b928-a64b-4238-9781-fea176071b8a",
   "metadata": {},
   "source": [
    "### EXERCISE 1.11:\n",
    "Ask the user to insert the temperature in celsius degree. Print on screen the converted temperature in kelvin and Fahrenheit"
   ]
  },
  {
   "cell_type": "code",
   "execution_count": null,
   "id": "4918701d-e246-4c33-819b-d203b108acdd",
   "metadata": {},
   "outputs": [],
   "source": []
  },
  {
   "cell_type": "code",
   "execution_count": null,
   "id": "e4d26c57-4b1f-4d44-8193-c4c0dfd17a03",
   "metadata": {},
   "outputs": [],
   "source": []
  },
  {
   "cell_type": "code",
   "execution_count": null,
   "id": "c35f3915-0dfa-48ae-a031-a23ddf0c51af",
   "metadata": {},
   "outputs": [],
   "source": []
  }
 ],
 "metadata": {
  "kernelspec": {
   "display_name": "Python 3 (ipykernel)",
   "language": "python",
   "name": "python3"
  },
  "language_info": {
   "codemirror_mode": {
    "name": "ipython",
    "version": 3
   },
   "file_extension": ".py",
   "mimetype": "text/x-python",
   "name": "python",
   "nbconvert_exporter": "python",
   "pygments_lexer": "ipython3",
   "version": "3.11.5"
  }
 },
 "nbformat": 4,
 "nbformat_minor": 5
}
