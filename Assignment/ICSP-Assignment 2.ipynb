{
 "cells": [
  {
   "cell_type": "markdown",
   "id": "552a736a-bf5b-4cba-8448-d3ce25761e0f",
   "metadata": {},
   "source": [
    "# INTRODUCTION TO COMPUTER SCIENCE WITH PYTHON  \n",
    "## ASSIGNMENT 2"
   ]
  },
  {
   "cell_type": "markdown",
   "id": "0ed559fb-0ec5-47c6-b61b-5c28367ea493",
   "metadata": {},
   "source": [
    "# EXERCISE 1. Create a String with a Repeated Pattern  \n",
    "Ask the user to input a character and a number of repetitions.   \n",
    "Create a string that repeats the character for the specified number of times and print it.  \n",
    "\n",
    "Example Input:\n",
    "\n",
    "Character: A\n",
    "Repetitions: 5  \n",
    "\n",
    "Output:\n",
    "AAAAA"
   ]
  },
  {
   "cell_type": "markdown",
   "id": "69cf6ce3-aeed-4560-89bc-63772f75946c",
   "metadata": {},
   "source": [
    "# EXERCISE 2. Create a Formatted String with Variables\n",
    "Ask the user to input their name and age.   \n",
    "Create a string that says:  \n",
    "\"Hello, my name is <name> and I am <age> years old.\"   \n",
    "Print the string.\n",
    "\n",
    "Example Input:\n",
    "Name: Anna\n",
    "Age: 30  \n",
    "    \n",
    "Output:\n",
    "Hello, my name is Anna and I am 30 years old."
   ]
  },
  {
   "cell_type": "markdown",
   "id": "a49e1d26-9533-4a6b-aef1-09f920fbd7b9",
   "metadata": {},
   "source": [
    "# EXERCISE 3. Join a List of Words into a Sentence  \n",
    "\n",
    "Ask the user to input three words, one at a time.  \n",
    "Join the words into a single string separated by spaces and print the result.  \n",
    "\n",
    "Example Input:\n",
    "\n",
    "Word 1: Python  \n",
    "Word 2: is  \n",
    "Word 3: easy    \n",
    "\n",
    "Output:\n",
    "Python is easy"
   ]
  },
  {
   "cell_type": "markdown",
   "id": "eb4cb2fd-fee3-4eb6-b314-5b1be0c48675",
   "metadata": {},
   "source": [
    "# EXERCISE 4. Construct a Repeated Word Pattern  \n",
    "\n",
    "Create the sentence: \"ha ha ha ha!\" by repeating a seed word.   \n",
    "Use a string for the word \"ha\" and concatenate it with spaces to match the desired output.  \n",
    "\n",
    "Output:\n",
    "ha ha ha ha!"
   ]
  },
  {
   "cell_type": "markdown",
   "id": "ba31e7f4-56ce-4439-b050-f5ee5e8909ad",
   "metadata": {},
   "source": [
    "# EXERCISE 5. Build a Sentence with Repeated Parts  \n",
    "\n",
    "Construct the sentence: \"I love you, I love Python!\" by concatenating the phrase \"I love \" with two different objects (\"you\" and \"Python\").   \n",
    "\n",
    "Use repetition where possible.\n",
    "\n",
    "Output:\n",
    "I love you, I love Python!"
   ]
  },
  {
   "cell_type": "markdown",
   "id": "d8bb21b3-c2cf-4bda-aab2-e65af0b38aae",
   "metadata": {},
   "source": [
    "# EXERCISE 6. Create a Rhythmic Sentence  \n",
    "\n",
    "Generate the sentence: \"boom boom clap clap!\" by concatenating a repeated pattern.   \n",
    "Use strings \"boom\" and \"clap\" and repeat them to form the sentence.  \n",
    "\n",
    "Output:\n",
    "boom boom clap clap!"
   ]
  },
  {
   "cell_type": "markdown",
   "id": "a38de588-7e17-4788-ad2d-042b48c5edd1",
   "metadata": {},
   "source": [
    "# EXERCISE 7. Access the First and Last Character  \n",
    "\n",
    "Ask the user to input a word.   \n",
    "Extract and print the first and last character of the string.\n",
    "\n",
    "Example Input:\n",
    "Word: Python  \n",
    "\n",
    "Output:\n",
    "First character: P\n",
    "Last character: n\n",
    "\n"
   ]
  },
  {
   "cell_type": "markdown",
   "id": "13012da8-dc58-4ed2-b947-f8cb78390ff9",
   "metadata": {},
   "source": [
    "# EXERCISE 8. Slice the First Three and Last Three Characters  \n",
    "\n",
    "Ask the user to input a word.   \n",
    "Slice and print the first three characters and the last three characters from the string.\n",
    "\n",
    "Example Input:  \n",
    "Word: Programming\n",
    "\n",
    "Output:\n",
    "First 3 characters: Pro  \n",
    "Last 3 characters: ing"
   ]
  },
  {
   "cell_type": "markdown",
   "id": "237636c2-a721-49d6-b019-76a93773f7f9",
   "metadata": {},
   "source": [
    "# EXERCISE 9. Reverse a String Using Slicing  \n",
    "\n",
    "Ask the user to input a string. Reverse the string using slicing and print the result.\n",
    "\n",
    "Example Input:  \n",
    "String: Hello  \n",
    "\n",
    "Output:\n",
    "Reversed string: olleH"
   ]
  },
  {
   "cell_type": "markdown",
   "id": "df105a2a-a63f-441c-a646-7f3569938667",
   "metadata": {},
   "source": [
    "# EXERCISE 10. Extract Every Second Character  \n",
    "\n",
    "Ask the user to input a string. Use slicing to extract every second character from the string and print the result.\n",
    "\n",
    "Example Input:  \n",
    "String: abcdef\n",
    "\n",
    "Output:\n",
    "Every second character: ace"
   ]
  }
 ],
 "metadata": {
  "kernelspec": {
   "display_name": "Python 3 (ipykernel)",
   "language": "python",
   "name": "python3"
  },
  "language_info": {
   "codemirror_mode": {
    "name": "ipython",
    "version": 3
   },
   "file_extension": ".py",
   "mimetype": "text/x-python",
   "name": "python",
   "nbconvert_exporter": "python",
   "pygments_lexer": "ipython3",
   "version": "3.9.18"
  }
 },
 "nbformat": 4,
 "nbformat_minor": 5
}
