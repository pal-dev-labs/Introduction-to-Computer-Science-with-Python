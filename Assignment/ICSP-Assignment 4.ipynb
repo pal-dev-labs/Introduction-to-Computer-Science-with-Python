{
 "cells": [
  {
   "cell_type": "markdown",
   "id": "6885f98b-5717-4e62-af7d-ba1156395c78",
   "metadata": {},
   "source": [
    "# INTRODUCTION TO COMPUTER SCIENCE WITH PYTHON  \n",
    "## ASSIGNMENT 4"
   ]
  },
  {
   "cell_type": "markdown",
   "id": "f79ac420-a137-4520-80a8-791d86417704",
   "metadata": {},
   "source": [
    "## Conditional Statement Exercises\n",
    "\n",
    "\n",
    "- Check Even or Odd: Write a function that takes an integer as input and prints \"Even\" if the number is even, and \"Odd\" if the number is odd.\n",
    "\n",
    "- Check Voting Eligibility: Write a function that takes an age as input and prints \"Eligible to vote\" if the age is 18 or older, and \"Not eligible to vote\" if it is below 18.\n",
    "\n",
    "- Check Positive, Negative, or Zero: Write a function that accepts a number and checks if it is positive, negative, or zero. Print \"Positive\", \"Negative\", or \"Zero\" accordingly.\n",
    "\n",
    "- Find the Largest Number: Write a function that accepts three numbers and prints which one is the largest.\n",
    "\n",
    "- Grade Evaluator: Write a function that accepts a student's score (between 0 and 100) and prints \"A\" if the score is 90 or above, \"B\" if it’s 80-89, \"C\" if it’s 70-79, \"D\" if it’s 60-69, and \"F\" if it’s below 60."
   ]
  },
  {
   "cell_type": "markdown",
   "id": "e2a7a011-e354-4050-927f-6e366ddd84a3",
   "metadata": {},
   "source": [
    "for Loop Exercises\n",
    "Sum of Numbers in a List: Write a function that takes a list of numbers and returns the sum of all the numbers.\n",
    "\n",
    "Print Each Character in a String: Write a function that takes a string and prints each character in the string on a new line.\n",
    "\n",
    "Print Even Numbers from 1 to 20: Write a function that uses a for loop to print all even numbers from 1 to 20.\n",
    "\n",
    "Multiplication Table: Write a function that takes a number as input and prints its multiplication table (from 1 to 10).\n",
    "\n",
    "Count Vowels in a String: Write a function that takes a string as input and counts the number of vowels (a, e, i, o, u) in the string. Print the count after checking all characters.\n",
    "\n"
   ]
  },
  {
   "cell_type": "code",
   "execution_count": null,
   "id": "64ede19e-5b53-4aff-bb30-13e9c55e7ae2",
   "metadata": {},
   "outputs": [],
   "source": []
  },
  {
   "cell_type": "code",
   "execution_count": null,
   "id": "7ffed28c-0fa6-46b3-9dbf-57d945920acd",
   "metadata": {},
   "outputs": [],
   "source": []
  }
 ],
 "metadata": {
  "hide_input": false,
  "kernelspec": {
   "display_name": "Python 3 (ipykernel)",
   "language": "python",
   "name": "python3"
  },
  "language_info": {
   "codemirror_mode": {
    "name": "ipython",
    "version": 3
   },
   "file_extension": ".py",
   "mimetype": "text/x-python",
   "name": "python",
   "nbconvert_exporter": "python",
   "pygments_lexer": "ipython3",
   "version": "3.12.4"
  },
  "varInspector": {
   "cols": {
    "lenName": 16,
    "lenType": 16,
    "lenVar": 40
   },
   "kernels_config": {
    "python": {
     "delete_cmd_postfix": "",
     "delete_cmd_prefix": "del ",
     "library": "var_list.py",
     "varRefreshCmd": "print(var_dic_list())"
    },
    "r": {
     "delete_cmd_postfix": ") ",
     "delete_cmd_prefix": "rm(",
     "library": "var_list.r",
     "varRefreshCmd": "cat(var_dic_list()) "
    }
   },
   "types_to_exclude": [
    "module",
    "function",
    "builtin_function_or_method",
    "instance",
    "_Feature"
   ],
   "window_display": false
  }
 },
 "nbformat": 4,
 "nbformat_minor": 5
}
